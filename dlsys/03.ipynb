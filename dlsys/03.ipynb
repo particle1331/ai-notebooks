{
 "cells": [
  {
   "cell_type": "markdown",
   "id": "73cc20ad-c72f-428a-b0cb-c7e060862561",
   "metadata": {},
   "source": [
    "# \"Manual\" Neural Networks"
   ]
  },
  {
   "cell_type": "code",
   "execution_count": null,
   "id": "c859025d-7cd1-4375-b0d3-2e2d1eeca997",
   "metadata": {},
   "outputs": [],
   "source": []
  }
 ],
 "metadata": {
  "kernelspec": {
   "display_name": "ai-notebooks",
   "language": "python",
   "name": "ai-notebooks"
  },
  "language_info": {
   "codemirror_mode": {
    "name": "ipython",
    "version": 3
   },
   "file_extension": ".py",
   "mimetype": "text/x-python",
   "name": "python",
   "nbconvert_exporter": "python",
   "pygments_lexer": "ipython3",
   "version": "3.13.5"
  }
 },
 "nbformat": 4,
 "nbformat_minor": 5
}
