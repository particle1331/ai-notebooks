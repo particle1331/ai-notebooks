{
 "cells": [
  {
   "cell_type": "markdown",
   "id": "20297d68-346f-4ba2-98d9-60f7f923f295",
   "metadata": {},
   "source": [
    "# Introduction to Deep Learning Systems"
   ]
  },
  {
   "cell_type": "markdown",
   "id": "ec84b919-bcf0-47a0-a66d-387850a805d3",
   "metadata": {},
   "source": [
    "**Primary reference:** \n",
    "[CMU 10-414/714: Deep Learning Systems](https://dlsyscourse.org/lectures/)\n",
    "- Fall 2024\n",
    "- Instructors: J. Zico Kolter and Tianqi Chen\n",
    "\n",
    "This course will provide you will an introduction to the functioning of modern deep\n",
    "learning systems. You will learn about the underlying concepts of modern deep learning systems like\n",
    "automatic differentiation, neural network architectures, optimization, and efficient\n",
    "operations on systems like GPUs. \n",
    "\n",
    "Finally, to solidify understanding, the homeworks build\n",
    "from scratch **needle** &mdash; a deep learning library loosely similar to PyTorch, and\n",
    "implement many common architectures in the library.\n"
   ]
  },
  {
   "cell_type": "markdown",
   "id": "7d87f00b-954c-4110-9d1d-ef662d988cd4",
   "metadata": {},
   "source": [
    "## Why study deep learning?"
   ]
  },
  {
   "cell_type": "markdown",
   "id": "951e13ee-bd66-4701-b273-e919225ce153",
   "metadata": {},
   "source": [
    "**Deep Learning Systems** (DLS) solved problems considered hard prior to 2010, e.g. obtaining SOTA scores on tasks and challenges such as [ImageNet](https://www.image-net.org/challenges/LSVRC/), [CASP](https://en.wikipedia.org/wiki/CASP), the game of Go$^1$, and text & image generation:\n",
    "\n",
    "[1] Game tree complexity of $10^{360}$ at 250 moves over 150 move games."
   ]
  },
  {
   "cell_type": "markdown",
   "id": "46e6d396-c17c-4a05-9966-970ac74f4fee",
   "metadata": {},
   "source": [
    "<img src=\"img/01-0.png\">\n",
    "\n",
    "<img src=\"img/01-1.png\">"
   ]
  },
  {
   "cell_type": "markdown",
   "id": "aebb0b76-cdd4-47a8-ada9-9d53a69e7a0b",
   "metadata": {},
   "source": [
    "## Why study deep learning systems?"
   ]
  },
  {
   "cell_type": "markdown",
   "id": "2e439166-0ab5-4699-a053-a122d4cb2240",
   "metadata": {},
   "source": [
    "### Reason #1. To build deep learning systems\n",
    "\n",
    "Despite the dominance of deep learning libraries and TensorFlow and PyTorch, the\n",
    "playing field in this space is remarkably fluid (see e.g., recent emergence of JAX). \n",
    "You may want to work on developing existing frameworks (virtually all of which are\n",
    "open source), or developing your own new frameworks for specific tasks."
   ]
  },
  {
   "cell_type": "markdown",
   "id": "da7b31d4-2817-4b85-95de-5d66bc18c779",
   "metadata": {},
   "source": [
    "DLS is not just for the \"big players\":\n",
    "\n",
    "<img src=\"img/01-2.png\">"
   ]
  },
  {
   "cell_type": "markdown",
   "id": "21a22e2c-bd9f-4b4e-8c74-061500ce67aa",
   "metadata": {},
   "source": [
    "**Controversial claim.** The\n",
    "single largest driver of\n",
    "widespread adoption of deep\n",
    "learning has been the creation of\n",
    "easy-to-use automatic\n",
    "differentiation libraries:\n",
    "\n",
    "<img src=\"img/01-3.png\">"
   ]
  },
  {
   "cell_type": "markdown",
   "id": "380e5243-c79c-43f9-bcfe-e845315488fe",
   "metadata": {},
   "source": [
    "\n",
    "### Reason #2. To use existing systems more effectively "
   ]
  },
  {
   "cell_type": "markdown",
   "id": "b11efc9d-a4ef-4ef4-b184-5af52066ca9c",
   "metadata": {},
   "source": [
    "Understanding how the internals of existing deep learning systems work let you\n",
    "use them much more efficiently. For example, you can make your custom \n",
    "non-standard layer run (much) faster in\n",
    "TensorFlow / PyTorch by understanding how these\n",
    "operations are executed. Understanding deep learning systems is a \"superpower\" that will let you\n",
    "accomplish your research aims much more efficiently."
   ]
  },
  {
   "cell_type": "markdown",
   "id": "52e857ae-095d-40d1-be13-41f8113ab3fe",
   "metadata": {},
   "source": [
    "\n",
    "<img src=\"img/01-6.png\">\n",
    "<img src=\"img/01-5.png\">\n",
    "<img src=\"img/01-4.png\">"
   ]
  },
  {
   "cell_type": "markdown",
   "id": "3901ac16-035b-4c87-823c-ca817e1994d8",
   "metadata": {},
   "source": [
    "### Reason #3: Deep learning systems are fun!\n",
    "\n",
    "Despite their seeming complexity, the core underlying algorithms behind deep\n",
    "learning systems (**automatic differentiation** + **gradient-based optimization**) are\n",
    "extremely simple. Unlike (say) operating systems, you could probably write a “reasonable” deep\n",
    "learning library in <2000 lines of (dense) code.\n",
    "\n",
    "The first time you build your automatic differentiation library, and realize you can\n",
    "take the gradient of a gradient without actually knowing how you would even go\n",
    "about deriving that mathematically... (e.g. the gradient of the gradient of a for-loop 😵‍💫.)"
   ]
  },
  {
   "cell_type": "markdown",
   "id": "5ec5d8c2-e924-4512-a364-b1933549a02d",
   "metadata": {},
   "source": [
    "## Elements of deep learning systems\n",
    "\n",
    "We will touch on the ff. elements throughout the course:\n",
    "\n",
    "| | |\n",
    "|:--|:--|\n",
    "| **Compose** | multiple tensor operations to build modern machine learning models | \n",
    "| **Transform** | a sequence of operations (forward & backward computation, e.g. AD) |\n",
    "| **Accelerate** | computation via specialized hardware |\n",
    "| **Extend** |  more hardware backends, more operators |"
   ]
  },
  {
   "cell_type": "markdown",
   "id": "d824ac1a-1f72-4623-be79-c11e0c372eb0",
   "metadata": {},
   "source": [
    "## Prerequisites\n",
    "\n",
    "- Systems programming \n",
    "- Linear algebra\n",
    "- Other mathematical background: e.g., calculus, probability, basic proofs\n",
    "- Python and C++ development$^1$\n",
    "- Basic prior experience with ML\n",
    "\n",
    "[1] [C++ crash course](https://www.youtube.com/watch?v=9Myk2vcK8s8)"
   ]
  },
  {
   "cell_type": "markdown",
   "id": "af5b1ac3-cdac-4ddf-87e1-c6e4701ab80f",
   "metadata": {},
   "source": [
    "## Learning objectives\n",
    "\n",
    "- Understand the basic functioning of modern deep learning libraries\n",
    "- Including\n",
    "concepts like automatic differentiation, gradient-based optimization\n",
    "- Be able to implement several standard deep learning architectures\n",
    "- MLPs, ConvNets, RNNs, Seq2Seq, Transformers, truly from scratch\n",
    "- Understand how hardware acceleration (e.g., on GPUs) works under the hood\n",
    "- Be able to develop your own highly efficient code for modern DL"
   ]
  },
  {
   "cell_type": "markdown",
   "id": "cd58096a-70d8-43e5-ba62-3c8968e9de2a",
   "metadata": {},
   "source": [
    "## Course instructors\n",
    "\n",
    "<img src=\"img/01-7.png\">\n",
    "<img src=\"img/01-8.png\">"
   ]
  },
  {
   "cell_type": "code",
   "execution_count": null,
   "id": "2a1dd38d-192d-436f-b8df-3a3e2736b469",
   "metadata": {},
   "outputs": [],
   "source": []
  }
 ],
 "metadata": {
  "kernelspec": {
   "display_name": "notebooks",
   "language": "python",
   "name": "notebooks"
  },
  "language_info": {
   "codemirror_mode": {
    "name": "ipython",
    "version": 3
   },
   "file_extension": ".py",
   "mimetype": "text/x-python",
   "name": "python",
   "nbconvert_exporter": "python",
   "pygments_lexer": "ipython3",
   "version": "3.12.9"
  }
 },
 "nbformat": 4,
 "nbformat_minor": 5
}
