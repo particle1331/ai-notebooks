{
 "cells": [
  {
   "cell_type": "markdown",
   "id": "8d585353",
   "metadata": {
    "vscode": {
     "languageId": "plaintext"
    }
   },
   "source": [
    "# Deep Learning"
   ]
  },
  {
   "cell_type": "markdown",
   "id": "731855e7",
   "metadata": {},
   "source": [
    "**Deep learning systems** solved problems that were considered hard prior to 2010, e.g. obtaining superhuman / SOTA scores on tasks and challenges such as [ImageNet](https://www.image-net.org/challenges/LSVRC/), [CASP](https://en.wikipedia.org/wiki/CASP), and [Go (board game)](https://en.wikipedia.org/wiki/Computer_Go)[^1]. Later, in the early 2020s, unprecedented progress in text & image generation were made with models like GPT-3 and Stable Diffusion: \n",
    "\n",
    "\n",
    "[^1]: Game tree complexity of $10^{360}$ at 250 moves over 150 move games."
   ]
  },
  {
   "cell_type": "markdown",
   "id": "c74f7cf6",
   "metadata": {},
   "source": [
    "<img src=\"img/01-0.png\">"
   ]
  },
  {
   "cell_type": "markdown",
   "id": "54206127",
   "metadata": {},
   "source": [
    "## Learning objectives\n",
    "\n",
    "This course will provide you will an introduction to the functioning of modern deep\n",
    "learning systems. You will learn about the underlying concepts of modern deep learning systems like\n",
    "automatic differentiation, neural network architectures, optimization, and efficient\n",
    "operations on systems like GPUs. \n",
    "\n",
    "- Understand the basic functioning of modern deep learning libraries\n",
    "- Including concepts like automatic differentiation, gradient-based optimization\n",
    "- Implement standard DL architectures (MLPs, ConvNets, RNNs, Seq2Seq, Transformers)\n",
    "\n",
    "<!-- - Understand how hardware acceleration (e.g., on GPUs) works under the hood\n",
    "- Be able to develop your own highly efficient code for modern DL -->\n",
    "\n",
    "<!-- ## Course instructors\n",
    "\n",
    "<img src=\"img/01-7.png\">\n",
    "<img src=\"img/01-8.png\"> -->"
   ]
  },
  {
   "cell_type": "markdown",
   "id": "52b17356",
   "metadata": {
    "vscode": {
     "languageId": "plaintext"
    }
   },
   "source": [
    "## References\n",
    "\n",
    "- [CMU 10-414/714: Deep Learning Systems](https://dlsyscourse.org/lectures/) (2022)"
   ]
  },
  {
   "cell_type": "markdown",
   "id": "edddb865",
   "metadata": {},
   "source": []
  }
 ],
 "metadata": {
  "language_info": {
   "name": "python"
  }
 },
 "nbformat": 4,
 "nbformat_minor": 5
}
