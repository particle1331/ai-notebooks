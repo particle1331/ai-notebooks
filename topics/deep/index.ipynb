{
 "cells": [
  {
   "cell_type": "markdown",
   "id": "54206127",
   "metadata": {},
   "source": [
    "# Deep Learning Systems\n",
    "\n",
    ":::{.gray-box}\n",
    "**Primary reference** \n",
    "\n",
    "- [CMU 10-414/714: Deep Learning Systems](https://dlsyscourse.org/lectures/) (Fall 2024)\n",
    "- Instructors: [J. Zico Kolter](https://zicokolter.com/) and [Tianqi Chen](https://tqchen.com/)\n",
    "\n",
    ":::\n",
    "\n",
    "This course will provide you will an introduction to the functioning of modern deep\n",
    "learning systems. You will learn about the underlying concepts of modern deep learning systems like\n",
    "automatic differentiation, neural network architectures, optimization, and efficient\n",
    "operations on systems like GPUs. \n",
    "\n",
    "Finally, to solidify understanding, the homeworks build\n",
    "from scratch **needle** &mdash; a deep learning library loosely similar to PyTorch, and\n",
    "implement many common architectures in the library.\n",
    "\n",
    "## Prerequisites\n",
    "\n",
    "- Systems programming \n",
    "- Linear algebra\n",
    "- Other mathematical background: e.g., calculus, probability, basic proofs\n",
    "- Python and C++ development\n",
    "- Prior experience with basic ML (overfitting, model validation)\n",
    "\n",
    "\n",
    "## Learning objectives\n",
    "\n",
    "- Understand the basic functioning of modern deep learning libraries\n",
    "- Including\n",
    "concepts like automatic differentiation, gradient-based optimization\n",
    "- Be able to implement several standard deep learning architectures\n",
    "- MLPs, ConvNets, RNNs, Seq2Seq, Transformers, truly from scratch\n",
    "- Understand how hardware acceleration (e.g., on GPUs) works under the hood\n",
    "- Be able to develop your own highly efficient code for modern DL\n",
    "\n",
    "<!-- ## Course instructors\n",
    "\n",
    "<img src=\"img/01-7.png\">\n",
    "<img src=\"img/01-8.png\"> -->\n",
    "\n",
    "## Contents\n",
    "\n",
    "- [01 Introduction](./01.ipynb)\n",
    "- [02 Softmax Regression](./02.ipynb)\n",
    "- [03 \"Manual\" Neural Networks](./03.ipynb)\n",
    "- [04 Automatic Differentiation](./04.ipynb)"
   ]
  },
  {
   "cell_type": "markdown",
   "id": "edddb865",
   "metadata": {},
   "source": []
  }
 ],
 "metadata": {
  "language_info": {
   "name": "python"
  }
 },
 "nbformat": 4,
 "nbformat_minor": 5
}
