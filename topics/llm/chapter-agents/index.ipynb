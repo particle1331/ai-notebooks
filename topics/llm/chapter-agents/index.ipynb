{
 "cells": [
  {
   "cell_type": "markdown",
   "id": "d621b5d3",
   "metadata": {},
   "source": [
    "# Agentic Systems"
   ]
  },
  {
   "cell_type": "markdown",
   "id": "bdb727ea",
   "metadata": {},
   "source": [
    "What are agents?\n",
    "\"Agent\" can be defined in several ways. Some customers define agents as fully autonomous systems that operate independently over extended periods, using various tools to accomplish complex tasks. Others use the term to describe more prescriptive implementations that follow predefined workflows. At Anthropic, we categorize all these variations as agentic systems, but draw an important architectural distinction between workflows and agents:\n",
    "\n",
    "- Workflows are systems where LLMs and tools are orchestrated through predefined code paths.\n",
    "Agents, on the other hand, are systems where LLMs dynamically direct their own processes and tool usage, maintaining control over how they accomplish tasks.\n",
    "\n",
    "- workflows offer predictability and consistency for well-defined tasks, whereas agents are the better option when flexibility and model-driven decision-making are needed at scale.\n",
    "\n",
    "- CAUTION. Agentic systems often trade latency and cost for better task performance, and you should consider when this tradeoff makes sense. For many applications, however, optimizing single LLM calls with retrieval and in-context examples is usually enough."
   ]
  },
  {
   "cell_type": "markdown",
   "id": "bcb5bb27",
   "metadata": {},
   "source": []
  }
 ],
 "metadata": {
  "language_info": {
   "name": "python"
  }
 },
 "nbformat": 4,
 "nbformat_minor": 5
}
