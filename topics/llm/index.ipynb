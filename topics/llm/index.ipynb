{
 "cells": [
  {
   "cell_type": "markdown",
   "id": "1212ce3c",
   "metadata": {},
   "source": [
    "# Large Language Models\n",
    "\n",
    "LLMs are parameteric models $f_\\Theta$ with $|\\Theta| \\gg 1$ such that ${x}_{[t+1]} = f_\\Theta(\\mathbf{x}_{(t-\\kappa: t]})$ is the index of the next token.\n",
    "\n",
    "## Sections\n",
    "\n",
    "| Section             | About                                                     |\n",
    "|-------------------|-----------------------------------------------------------------|\n",
    "| [LLM Engineering](chapter-llme/index.ipynb) | Building applications around [Large Language Models](https://en.wikipedia.org/wiki/Large_language_model) (LLM). |\n",
    "| [Agents](chapter-agents/index.ipynb) | Agents 'n shi |\n"
   ]
  },
  {
   "cell_type": "markdown",
   "id": "b51233f2",
   "metadata": {},
   "source": []
  }
 ],
 "metadata": {
  "language_info": {
   "name": "python"
  }
 },
 "nbformat": 4,
 "nbformat_minor": 5
}
