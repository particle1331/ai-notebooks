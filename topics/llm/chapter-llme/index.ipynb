{
 "cells": [
  {
   "cell_type": "markdown",
   "id": "60fa830c",
   "metadata": {},
   "source": [
    "# LLM Engineering"
   ]
  },
  {
   "cell_type": "markdown",
   "id": "107ffb70",
   "metadata": {},
   "source": [
    "Building applications around [Large Language Models](https://en.wikipedia.org/wiki/Large_language_model) (LLM)."
   ]
  },
  {
   "cell_type": "markdown",
   "id": "072f2ce2",
   "metadata": {},
   "source": [
    "## Contents"
   ]
  },
  {
   "cell_type": "markdown",
   "id": "233d2bc9",
   "metadata": {},
   "source": [
    "### "
   ]
  }
 ],
 "metadata": {
  "language_info": {
   "name": "python"
  }
 },
 "nbformat": 4,
 "nbformat_minor": 5
}
