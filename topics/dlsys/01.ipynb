{
 "cells": [
  {
   "cell_type": "markdown",
   "id": "5b2ae621",
   "metadata": {},
   "source": [
    "# Introduction to DL Systems"
   ]
  },
  {
   "cell_type": "markdown",
   "id": "951e13ee-bd66-4701-b273-e919225ce153",
   "metadata": {},
   "source": [
    "**Deep Learning Systems** solved problems considered hard prior to 2010, e.g. obtaining superhuman / SOTA scores on tasks and challenges such as [ImageNet](https://www.image-net.org/challenges/LSVRC/), [CASP](https://en.wikipedia.org/wiki/CASP), and [Go (board game)](https://en.wikipedia.org/wiki/Computer_Go)[^1]. Later, in the early 2020s, unprecedented progress in text & image generation were made with models like GPT-3 and Stable Diffusion: \n",
    "\n",
    "\n",
    "[^1]: Game tree complexity of $10^{360}$ at 250 moves over 150 move games."
   ]
  },
  {
   "cell_type": "markdown",
   "id": "46e6d396-c17c-4a05-9966-970ac74f4fee",
   "metadata": {},
   "source": [
    "<img src=\"img/01-1.png\">\n",
    "\n",
    "<img src=\"img/01-0.png\">"
   ]
  },
  {
   "cell_type": "markdown",
   "id": "e8753472",
   "metadata": {},
   "source": [
    "## Why study deep learning systems?"
   ]
  },
  {
   "cell_type": "markdown",
   "id": "2e439166-0ab5-4699-a053-a122d4cb2240",
   "metadata": {},
   "source": [
    "### Reason #1. To build deep learning systems\n",
    "\n",
    "Despite the dominance of deep learning libraries and TensorFlow and PyTorch, the\n",
    "playing field in this space is remarkably fluid (see e.g., recent emergence of JAX). \n",
    "You may want to work on developing existing frameworks (virtually all of which are\n",
    "open source), or developing your own new frameworks for specific tasks."
   ]
  },
  {
   "cell_type": "markdown",
   "id": "da7b31d4-2817-4b85-95de-5d66bc18c779",
   "metadata": {},
   "source": [
    "Not just for the \"big players\":\n",
    "\n",
    "<img src=\"img/01-2.png\">"
   ]
  },
  {
   "cell_type": "markdown",
   "id": "21a22e2c-bd9f-4b4e-8c74-061500ce67aa",
   "metadata": {},
   "source": [
    "**Claim.** The\n",
    "single largest driver of\n",
    "widespread adoption of DL has been the creation of\n",
    "easy-to-use autodiff libraries:\n",
    "\n",
    "<img src=\"img/01-3.png\">"
   ]
  },
  {
   "cell_type": "markdown",
   "id": "50d5f321",
   "metadata": {},
   "source": [
    "Deep learning systems are continuously evolving:"
   ]
  },
  {
   "cell_type": "markdown",
   "id": "7587659a",
   "metadata": {
    "vscode": {
     "languageId": "plaintext"
    }
   },
   "source": [
    "<img src=\"img/01-dlsys.svg\">"
   ]
  },
  {
   "cell_type": "markdown",
   "id": "f40b59e4",
   "metadata": {},
   "source": [
    "\n",
    "### Reason #2. To use existing systems more effectively "
   ]
  },
  {
   "cell_type": "markdown",
   "id": "96567beb",
   "metadata": {},
   "source": [
    "Understanding how the internals of existing deep learning systems work let you\n",
    "use them much more efficiently. For example, you can make your custom \n",
    "non-standard layer run (much) faster in\n",
    "TensorFlow / PyTorch by understanding how these\n",
    "operations are executed. Understanding deep learning systems is a \"superpower\" that will let you\n",
    "accomplish your research aims much more efficiently."
   ]
  },
  {
   "cell_type": "markdown",
   "id": "3901ac16-035b-4c87-823c-ca817e1994d8",
   "metadata": {},
   "source": [
    "### Reason #3: Deep learning systems are fun!\n",
    "\n",
    "Despite their seeming complexity, the core underlying algorithms behind deep\n",
    "learning systems (**automatic differentiation** + **gradient-based optimization**) are\n",
    "extremely simple. Unlike (say) operating systems, you could probably write a “reasonable” deep\n",
    "learning library in <2000 lines of (dense) code.\n",
    "\n",
    "The first time you build your automatic differentiation library, and realize you can take the gradient of a gradient without actually knowing how you would even go\n",
    "about deriving that mathematically. For example, you can automatically differentiate complex operations like batch norm, which requires careful dependency tracking when done by hand. Or the gradient of a for-loop which can be tedious to follow manually."
   ]
  },
  {
   "cell_type": "markdown",
   "id": "4c065c05-7913-48b0-ac27-d226c05a4d58",
   "metadata": {},
   "source": [
    "## Elements of deep learning systems\n",
    "\n",
    "1. **Compose** multiple tensor operations to build modern ML models.\n",
    "2. **Transform** a sequence of operations (automatic differentiation).\n",
    "3. **Accelerate** computation via specialized hardware.\n",
    "4. **Extend** to more hardware backends, and more operators."
   ]
  },
  {
   "cell_type": "markdown",
   "id": "cc8298ce",
   "metadata": {},
   "source": []
  }
 ],
 "metadata": {
  "kernelspec": {
   "display_name": "Python 3 (ipykernel)",
   "language": "python",
   "name": "python3"
  },
  "language_info": {
   "codemirror_mode": {
    "name": "ipython",
    "version": 3
   },
   "file_extension": ".py",
   "mimetype": "text/x-python",
   "name": "python",
   "nbconvert_exporter": "python",
   "pygments_lexer": "ipython3",
   "version": "3.13.5"
  }
 },
 "nbformat": 4,
 "nbformat_minor": 5
}
