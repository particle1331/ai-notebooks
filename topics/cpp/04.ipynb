{
 "cells": [
  {
   "cell_type": "markdown",
   "id": "0551572c-ee3c-4d77-95a6-079269aab327",
   "metadata": {},
   "source": [
    "# Functions"
   ]
  },
  {
   "cell_type": "markdown",
   "id": "07033f2d-7be8-4dc9-9f26-4f9123a157e2",
   "metadata": {},
   "source": [
    "Functions in C++ require a **return type** and a **body**. It may return a *variable*, value or *nothing* (`void`). A void return type means that assigning the function output to a variable results in an erorr. This behavior is different from Python which allows assignment of `None` which is the default return value whenever none is specified."
   ]
  },
  {
   "cell_type": "code",
   "execution_count": 1,
   "id": "e81e810b-1552-41e9-bed1-c620d1cd4815",
   "metadata": {},
   "outputs": [],
   "source": [
    "from utils import *"
   ]
  },
  {
   "cell_type": "code",
   "execution_count": 2,
   "id": "0e8f92f5-bd63-4645-9829-313de77af293",
   "metadata": {},
   "outputs": [
    {
     "name": "stdout",
     "output_type": "stream",
     "text": [
      "g++ -std=c++23 ./code/tmp.cpp -o ./code/tmp\n",
      "./code/tmp\n",
      "\n",
      "4\n",
      "hello\n"
     ]
    }
   ],
   "source": [
    "%%runcpp\n",
    "#include <iostream>\n",
    "using namespace std;\n",
    "\n",
    "int add_one(int x) {\n",
    "    return x + 1;\n",
    "}\n",
    "\n",
    "void hello(){\n",
    "    cout << \"hello\\n\";\n",
    "}\n",
    "\n",
    "int main() {\n",
    "    cout << add_one(3) << endl;\n",
    "    hello();\n",
    "    return 0;\n",
    "}"
   ]
  },
  {
   "cell_type": "markdown",
   "id": "9954bdf4-2fb3-4166-9d0e-56bd87f032ce",
   "metadata": {},
   "source": [
    "## Newton's method"
   ]
  },
  {
   "cell_type": "markdown",
   "id": "d6397228-5941-434e-9c32-1da2e133aeb8",
   "metadata": {},
   "source": [
    "**Example.** Let's define an actual meaningful function. Recall **Newton's Method** for getting the zero of $f$: \n",
    "\n",
    "$$x_{k+1} = x_k - \\frac{f(x)}{f^\\prime(x)}$$\n",
    "\n",
    "Given a number $a > 0$ we want to solve for its square root using $f(x) = x^2 - a.$\n",
    "\n",
    "$$\n",
    "x_{k + 1} = x_k - \\frac{x_k^2 - a}{2 x_k} = \\frac{1}{2} \\left( x_k + \\frac{a}{x_k} \\right).\n",
    "$$"
   ]
  },
  {
   "cell_type": "code",
   "execution_count": 3,
   "id": "efa46304-a5f4-405e-94ab-d9f3faf2fe40",
   "metadata": {},
   "outputs": [
    {
     "name": "stdout",
     "output_type": "stream",
     "text": [
      "g++ -std=c++23 ./code/04_newton_sqrt.cpp -o ./code/04_newton_sqrt\n",
      "\n"
     ]
    }
   ],
   "source": [
    "%%runcpp 04_newton_sqrt.cpp --run=false\n",
    "#include <iostream>\n",
    "#include <iomanip>\n",
    "using namespace std;\n",
    "\n",
    "double squareroot(float a, int n_steps = 10) {\n",
    "    int i;\n",
    "    double x = a / 2;\n",
    "    cout << fixed << setprecision(10);\n",
    "    \n",
    "    for (i = 0; i < n_steps; i++) {\n",
    "        x = 0.5 * (x + a / x);\n",
    "        cout << x << \"\\t\" << \"| err: \" << x * x - a << endl;\n",
    "    }\n",
    "    \n",
    "    return x;\n",
    "}\n",
    "\n",
    "int main() {\n",
    "    double a; cin >> a;\n",
    "    double x;\n",
    "    x = squareroot(a);\n",
    "    cout << \"\\noutput: \" << x;\n",
    "    return 0;\n",
    "}"
   ]
  },
  {
   "cell_type": "markdown",
   "id": "8565706d-b55b-4ffa-8ad7-2bdb646fc6bf",
   "metadata": {},
   "source": [
    "**NOTE:** Here we use `<iomanip>` for `std::fixed` and `std::setprecision`. To increase `cout` precision from 6 to 8;"
   ]
  },
  {
   "cell_type": "code",
   "execution_count": 4,
   "id": "b3a9cb53-257c-4983-b8a4-b01e99e47ed5",
   "metadata": {},
   "outputs": [
    {
     "name": "stdout",
     "output_type": "stream",
     "text": [
      "253.8125000000\t| err: 63409.5351562500\n",
      "128.8983701674\t| err: 15603.5398318240\n",
      "68.3718491123\t| err: 3663.4597510372\n",
      "41.5811465161\t| err: 717.7417455967\n",
      "32.9505313728\t| err: 74.4875177519\n",
      "31.8202382539\t| err: 1.2775625347\n",
      "31.8001635687\t| err: 0.0004029930\n",
      "31.8001572323\t| err: 0.0000000000\n",
      "31.8001572323\t| err: -0.0000000000\n",
      "31.8001572323\t| err: -0.0000000000\n",
      "\n",
      "output: 31.8001572323"
     ]
    }
   ],
   "source": [
    "!echo 1011.25 | ./code/04_newton_sqrt"
   ]
  },
  {
   "cell_type": "code",
   "execution_count": 5,
   "id": "64d11225-8c87-425c-9202-802dfe66cbb0",
   "metadata": {},
   "outputs": [
    {
     "data": {
      "text/plain": [
       "31.8001572323"
      ]
     },
     "execution_count": 5,
     "metadata": {},
     "output_type": "execute_result"
    }
   ],
   "source": [
    "round(1011.25 ** 0.5, 10)"
   ]
  },
  {
   "cell_type": "markdown",
   "id": "20da21c7-2664-41a1-9b0d-d9fdc79500f1",
   "metadata": {},
   "source": [
    "## Parameter passing"
   ]
  },
  {
   "cell_type": "markdown",
   "id": "d3486d46-d242-4320-9df6-7b468e12b5b4",
   "metadata": {},
   "source": [
    "Calling a function by value involves copying the contents of the arguments into the memory locations of the corresponding **formal parameters**. If the function changes the values of the parameters, the original contents in the memory referenced by the arguments of the calling function do not change. This is analogous to local variables in Python functions.\n",
    "\n",
    "\n",
    "In C++, we can pass a reference to a location in memory which allows changing the value in that location. To let the compiler know that you intend to use **pass by reference**, you attach an `&` to the end of the type name in the formal parameter list in the function declaration and header."
   ]
  },
  {
   "cell_type": "code",
   "execution_count": 6,
   "id": "d340c371-dbe1-40ae-a972-d79c4e402f5e",
   "metadata": {},
   "outputs": [
    {
     "name": "stdout",
     "output_type": "stream",
     "text": [
      "g++ -std=c++23 ./code/tmp.cpp -o ./code/tmp\n",
      "./code/tmp\n",
      "\n",
      "42\n"
     ]
    }
   ],
   "source": [
    "%%runcpp\n",
    "#include <iostream>\n",
    "using namespace std;\n",
    "\n",
    "void add_one(int& x) {\n",
    "    x = x + 1;\n",
    "}\n",
    "\n",
    "int main() {\n",
    "    int u = 41; \n",
    "    add_one(u);\n",
    "    cout << u << endl;\n",
    "    return 0;\n",
    "}"
   ]
  },
  {
   "cell_type": "markdown",
   "id": "d74bd30c-253d-4e50-91d8-f373c80d443b",
   "metadata": {},
   "source": [
    "**Remark.** Removing the `&` in `add_one` results in `u` being the same."
   ]
  },
  {
   "cell_type": "markdown",
   "id": "88d550bb-a03c-4b01-820d-6aa6cc8ac78c",
   "metadata": {},
   "source": [
    "## Arrays as Parameters in Functions\n",
    "\n",
    "An array is a collection data type that is the ancestor of the Python list. We will discuss arrays in more detail in the next chapter. Functions can be used with array parameters to maintain a structured design. However, a formal parameter for an array is neither a call-by-value nor a call-by-reference, but a new type of parameter pass called an **array parameter**:\n",
    "\n",
    "```c++\n",
    "float f(int arr[]) {\n",
    "    ...\n",
    "} \n",
    "```\n",
    "\n",
    "Moreover, an array is defined using the same notation."
   ]
  },
  {
   "cell_type": "code",
   "execution_count": 7,
   "id": "822ba848-51c1-428c-9396-e3c8b13e3bea",
   "metadata": {},
   "outputs": [
    {
     "name": "stdout",
     "output_type": "stream",
     "text": [
      "g++ -std=c++23 ./code/tmp.cpp -o ./code/tmp\n",
      "./code/tmp\n",
      "\n",
      "1.5\n"
     ]
    }
   ],
   "source": [
    "%%runcpp\n",
    "#include <iostream>\n",
    "using namespace std;\n",
    "\n",
    "double avg(int arr[], int n) {\n",
    "    double s = 0;\n",
    "    for (int i = 0; i < n; i++) {\n",
    "        s += arr[i];\n",
    "    }\n",
    "    return s / n;\n",
    "}\n",
    "\n",
    "int main() {\n",
    "    int arr[] = {1, 2};\n",
    "    cout << avg(arr, 2) << endl;\n",
    "    return 0;\n",
    "}"
   ]
  },
  {
   "cell_type": "markdown",
   "id": "999c8f0d",
   "metadata": {},
   "source": [
    "**NOTE:** The functions with array parameters do not make private copies of the arrays. Instead, the reference is passed to reduce the impact on memory. Arrays can therefore always be permanently changed when passed as arguments to functions. ⚠️\n",
    "\n"
   ]
  },
  {
   "cell_type": "code",
   "execution_count": 8,
   "id": "383c334b",
   "metadata": {},
   "outputs": [
    {
     "name": "stdout",
     "output_type": "stream",
     "text": [
      "g++ -std=c++23 ./code/tmp.cpp -o ./code/tmp\n",
      "./code/tmp\n",
      "\n",
      "1, 2\n",
      "0, 2\n"
     ]
    }
   ],
   "source": [
    "%%runcpp\n",
    "#include <iostream>\n",
    "using namespace std;\n",
    "\n",
    "void zero(int arr[]) {\n",
    "    arr[0] = 0;\n",
    "}\n",
    "\n",
    "int main() {\n",
    "    int arr[] = {1, 2};\n",
    "    println(\"{}, {}\", arr[0], arr[1]);\n",
    "    zero(arr);\n",
    "    println(\"{}, {}\", arr[0], arr[1]);\n",
    "    return 0;\n",
    "}"
   ]
  },
  {
   "cell_type": "markdown",
   "id": "02a09eed",
   "metadata": {},
   "source": [
    "To prevent ourselves from accidentally modifying any of these arrays, we can add the modifier `const` in the function head. The compiler will then raise an error if any statement within the function's definition modifies the elements of the `const` array:"
   ]
  },
  {
   "cell_type": "code",
   "execution_count": 9,
   "id": "0f8f076e",
   "metadata": {},
   "outputs": [],
   "source": [
    "!rm ./code/tmp"
   ]
  },
  {
   "cell_type": "code",
   "execution_count": 10,
   "id": "539691ac",
   "metadata": {},
   "outputs": [
    {
     "name": "stdout",
     "output_type": "stream",
     "text": [
      "g++ -std=c++23 ./code/tmp.cpp -o ./code/tmp\n",
      "./code/tmp\n",
      "\n",
      "127\n"
     ]
    },
    {
     "name": "stderr",
     "output_type": "stream",
     "text": [
      "./code/tmp.cpp:5:12: error: read-only variable is not assignable\n",
      "    5 |     arr[0] = 0;\n",
      "      |     ~~~~~~ ^\n",
      "1 error generated.\n",
      "/bin/sh: line 1: ./code/tmp: No such file or directory\n"
     ]
    }
   ],
   "source": [
    "%%runcpp --exitcode=true\n",
    "#include <iostream>\n",
    "using namespace std;\n",
    "\n",
    "void zero(const int arr[]) {\n",
    "    arr[0] = 0;\n",
    "}\n",
    "\n",
    "int main() {\n",
    "    int arr[] = {1, 2};\n",
    "    println(\"{}, {}\", arr[0], arr[1]);\n",
    "    zero(arr);\n",
    "    println(\"{}, {}\", arr[0], arr[1]);\n",
    "    return 0;\n",
    "}"
   ]
  },
  {
   "cell_type": "markdown",
   "id": "b191066d",
   "metadata": {},
   "source": [
    "## Function Overloading"
   ]
  },
  {
   "cell_type": "markdown",
   "id": "e984376a",
   "metadata": {},
   "source": [
    "**Function overloading** is a unique feature of C++ (not present in Python) where functions of the same name but with different implementations can be defined. The functions are distinguished based on their parameters. Note that assigning different return types result in a warning:"
   ]
  },
  {
   "cell_type": "code",
   "execution_count": 11,
   "id": "e5fea5f4",
   "metadata": {},
   "outputs": [
    {
     "name": "stdout",
     "output_type": "stream",
     "text": [
      "g++ -std=c++23 ./code/tmp.cpp -o ./code/tmp\n",
      "./code/tmp\n",
      "\n",
      "1 params: 4\n",
      "2 params: 5, 6\n",
      "1 params: 0\n"
     ]
    }
   ],
   "source": [
    "%%runcpp\n",
    "#include <iostream>\n",
    "using namespace std;\n",
    "\n",
    "void f(int n){\n",
    "    println(\"1 params: {}\", n);\n",
    "}\n",
    "\n",
    "void f(int n, int m){\n",
    "    println(\"2 params: {}, {}\", n, m);\n",
    "}\n",
    "\n",
    "int main() {\n",
    "    f(4);\n",
    "    f(5, 6);\n",
    "    f(0);\n",
    "    return 0;\n",
    "}"
   ]
  },
  {
   "cell_type": "code",
   "execution_count": null,
   "id": "b5d53940",
   "metadata": {},
   "outputs": [],
   "source": []
  }
 ],
 "metadata": {
  "kernelspec": {
   "display_name": "ai-notebooks",
   "language": "python",
   "name": "python3"
  },
  "language_info": {
   "codemirror_mode": {
    "name": "ipython",
    "version": 3
   },
   "file_extension": ".py",
   "mimetype": "text/x-python",
   "name": "python",
   "nbconvert_exporter": "python",
   "pygments_lexer": "ipython3",
   "version": "3.13.5"
  }
 },
 "nbformat": 4,
 "nbformat_minor": 5
}
