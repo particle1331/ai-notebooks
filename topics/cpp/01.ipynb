{
 "cells": [
  {
   "cell_type": "markdown",
   "id": "a77518d6-3a4c-4a40-a5f7-2458176e8d92",
   "metadata": {},
   "source": [
    "# Introduction to C++ for Python Programmers"
   ]
  },
  {
   "cell_type": "markdown",
   "id": "4f32d3b9-b377-41ee-a638-3d1d82ef7fda",
   "metadata": {},
   "source": [
    "We look at primary constructs that are common to nearly all programming languages:\n",
    "\n",
    "- Using code libraries\n",
    "- The main function\n",
    "- Standard i/o\n",
    "- Data types and operators\n",
    "- Conditionals\n",
    "- Loops\n",
    "\n",
    "Next, we look at additional useful features of C++ including:\n",
    "\n",
    "- Functions and their parameters\n",
    "- File operations\n",
    "- Exception handling"
   ]
  },
  {
   "cell_type": "markdown",
   "id": "9715afe5-fa4f-4471-9a90-d61140899b57",
   "metadata": {},
   "source": [
    "## Why learn C++?"
   ]
  },
  {
   "cell_type": "markdown",
   "id": "1170c157-0396-4160-bbec-6e0ed9d8c4a2",
   "metadata": {},
   "source": [
    "These other more formal languages have some advantages of their own. First, is speed: For very large programs C and C++ are likely to give you the best performance. Second, is their maintainability. Python requires you to remember certain things. For example if you set variable t to reference a turtle, and forget later that t is a turtle but try to invoke a string method on it, you will get an error. C++ protects you from this kind of error by forcing you to be upfront and formal about the type of object each variable is going to refer to.\n",
    "\n",
    "C++ is an industrial strength programming language and is very often used today for large systems by large groups of people. C++ is particularly good at interacting directly with computer hardware, making execution very fast. C++ supports the four primary features of OOP: abstraction, inheritance, polymorphism, and encapsulation. C++ allows the programmer to create and use a data type called a **pointer** explicitly, which can increase control over both memory and performance under certain circumstances. Because C++ is fast, it is currently the language of choice for virtual reality. Also, because C++ is fast, it is the language of choice of many 2D and 3D game engines. For all of the above reasons, even though C++ is an older language, it is still one of the top listed in job advertisements."
   ]
  },
  {
   "cell_type": "markdown",
   "id": "08b104bb-a14e-44a3-a824-3384a98a91d4",
   "metadata": {},
   "source": [
    "## Hello, world!"
   ]
  },
  {
   "cell_type": "markdown",
   "id": "32d29c1b-4adf-40bc-8f2d-4ae115c17df9",
   "metadata": {},
   "source": [
    "The time honored tradition. First, we recall in Python:"
   ]
  },
  {
   "cell_type": "code",
   "execution_count": 1,
   "id": "8f126951-4577-42f5-b882-98def6bd12cf",
   "metadata": {},
   "outputs": [
    {
     "name": "stdout",
     "output_type": "stream",
     "text": [
      "Hello, world!\n"
     ]
    }
   ],
   "source": [
    "print(\"Hello, world!\")"
   ]
  },
  {
   "cell_type": "markdown",
   "id": "5b4ea332-ee54-4b26-a298-89fa94a3bcd8",
   "metadata": {},
   "source": [
    "This can be made into a more complicated version:"
   ]
  },
  {
   "cell_type": "code",
   "execution_count": 2,
   "id": "519dd417-b641-426b-9812-fd8264869a00",
   "metadata": {},
   "outputs": [
    {
     "name": "stdout",
     "output_type": "stream",
     "text": [
      "Hello, world!\n"
     ]
    }
   ],
   "source": [
    "def main():\n",
    "    print(\"Hello, world!\")\n",
    "\n",
    "main()"
   ]
  },
  {
   "cell_type": "markdown",
   "id": "e66ef336-4da4-4de0-b59b-df28036599a7",
   "metadata": {},
   "source": [
    "The version in C++:"
   ]
  },
  {
   "cell_type": "code",
   "execution_count": 3,
   "id": "b2ebb293-302a-461b-b13d-10599f56aa94",
   "metadata": {},
   "outputs": [
    {
     "name": "stdout",
     "output_type": "stream",
     "text": [
      "Overwriting ./code/01_01.cpp\n"
     ]
    }
   ],
   "source": [
    "%%writefile ./code/01_01.cpp\n",
    "#include <iostream>\n",
    "\n",
    "int main(){\n",
    "    std::cout << \"Hello, world!\\n\";\n",
    "    return 0;\n",
    "}"
   ]
  },
  {
   "cell_type": "code",
   "execution_count": 4,
   "id": "588927f3-c873-4cde-abf3-b52035e4bb48",
   "metadata": {},
   "outputs": [
    {
     "name": "stdout",
     "output_type": "stream",
     "text": [
      "Hello, world!\n"
     ]
    }
   ],
   "source": [
    "!g++-15 ./code/01_01.cpp -o ./code/01_01\n",
    "!./code/01_01"
   ]
  },
  {
   "cell_type": "markdown",
   "id": "a4bd3d73-910c-41f4-abfc-21370ba38f52",
   "metadata": {},
   "source": [
    "**NOTE:** Compiling and then running. In my case, I have `gcc` (v15) installed using Homebrew on a MacBook. That's a lot of writing, so we define a helper function for running the code in a jupyter cell:"
   ]
  },
  {
   "cell_type": "code",
   "execution_count": 5,
   "id": "3913f189-225c-4c07-a2dc-8da7a8c0cc14",
   "metadata": {},
   "outputs": [
    {
     "name": "stdout",
     "output_type": "stream",
     "text": [
      "$ g++-15 ./code/01_01.cpp -o ./code/01_01\n",
      "$ ./code/01_01\n",
      "\n",
      "Hello, world!\n"
     ]
    }
   ],
   "source": [
    "from IPython.display import display, HTML\n",
    "from IPython import get_ipython\n",
    "from pathlib import Path\n",
    "\n",
    "def get_latest_file(folder: str):\n",
    "    p = Path(folder)\n",
    "    fn = max(p.glob(\"**/*.cpp\"), key=lambda f: f.stat().st_mtime)\n",
    "    return fn.name.replace(\".cpp\", \"\")\n",
    "\n",
    "def run(fn: str=None, comp: bool=True):\n",
    "    fn = get_latest_file(\"./code\") if fn is None else fn\n",
    "    cmd = f\"!./code/{fn}\"\n",
    "    if comp:\n",
    "        cmd = f\"!g++-15 ./code/{fn}.cpp -o ./code/{fn}\\n\" + cmd\n",
    "\n",
    "    # run\n",
    "    print((cmd + \"\\n\").replace(\"!\", \"$ \"))\n",
    "    get_ipython().run_cell(cmd)\n",
    "\n",
    "\n",
    "run();  # gets last modified .cpp source file when fn unspecified"
   ]
  },
  {
   "cell_type": "markdown",
   "id": "5e2e9d75-ad2a-4a42-8e64-10b9751504c6",
   "metadata": {},
   "source": [
    "The ff allows us to skip writing `std::` every time we use a component in the C++ standard library:"
   ]
  },
  {
   "cell_type": "code",
   "execution_count": 6,
   "id": "c5a14de8-de87-4141-9df3-5373da973ea4",
   "metadata": {},
   "outputs": [
    {
     "name": "stdout",
     "output_type": "stream",
     "text": [
      "Overwriting ./code/01_02.cpp\n"
     ]
    }
   ],
   "source": [
    "%%writefile ./code/01_02.cpp\n",
    "#include <iostream>\n",
    "using namespace std;\n",
    "\n",
    "int main(){\n",
    "    cout << \"Hello World!\\n\";\n",
    "    return 0;\n",
    "}"
   ]
  },
  {
   "cell_type": "code",
   "execution_count": 7,
   "id": "7c24d3d1-cab4-479a-aed8-c1b5a87d5dc7",
   "metadata": {},
   "outputs": [
    {
     "name": "stdout",
     "output_type": "stream",
     "text": [
      "$ g++-15 ./code/01_02.cpp -o ./code/01_02\n",
      "$ ./code/01_02\n",
      "\n",
      "Hello World!\n"
     ]
    }
   ],
   "source": [
    "run();"
   ]
  },
  {
   "cell_type": "markdown",
   "id": "2e16b6e7-3205-403b-ba4f-63b6c37787ec",
   "metadata": {},
   "source": [
    "## Compilation"
   ]
  },
  {
   "cell_type": "markdown",
   "id": "60324b87-0915-43e5-8edc-64fd7d53d8d5",
   "metadata": {},
   "source": [
    "To run the C++ programs in the previous section, we compiled it using `g++`. This allows (1) early error detection (e.g. syntax or type errors), and (2) faster program execution. The job of the compiler is to turn your C++ code into language that your machine can understand. We call the code that the computer understands **machine code**. The computer interprets the machine code much like the Python interpreter interprets your Python. However, since machine code is much closer to the native language of the computer, it can run faster.\n",
    "\n",
    "**Sidenote.** Python code is not directly converted into machine code that a computer's CPU can execute. Instead, Python code is first compiled into an intermediate form called **bytecode**, which is then interpreted by the [Python Virtual Machine](https://blog.codingconfessions.com/p/cpython-vm-internals) (PVM). The PVM translates the bytecode into machine code instructions that the specific CPU can understand and run."
   ]
  },
  {
   "cell_type": "markdown",
   "id": "12624214-1fc3-403c-b35a-c6cd4e9a269a",
   "metadata": {},
   "source": [
    "### Headers and libraries"
   ]
  },
  {
   "cell_type": "markdown",
   "id": "895ea66b-513e-443e-adbb-51f01505a651",
   "metadata": {},
   "source": [
    "**Preprocessor directives** in C++ appear as statements preceded by the hash sign `#`. These tell the preprocessor which file, header, or library to make available to the compiler. For example, `#include <iostream>` will make sure that the iostream library is available at compile time. Here, the term **header** is used for a type of C++ file that contains definitions of functions and variables, but *not* the function implementations.\n",
    "\n",
    "This is similar to Python imports. But note that there are two ways to use `#include` in C++:\n",
    "\n",
    "```c++\n",
    "#include <libraryname>\n",
    "#include \"filename\"\n",
    "```\n",
    "\n",
    "Here the angle-brackets `<>` are used to include libraries or headers provided by the implementation, such as the headers in the standard library (iostream, string, etc.). The double quotes `\"` are used for headers and files not provided by the implementation (i.e. compiler and your version of the standard library).\n",
    "\n",
    "```c++\n",
    "#include <vector>      // provided by the C++ standard library\n",
    "#include \"utils.h\"     // a custom file in your project\n",
    "```\n",
    "\n"
   ]
  },
  {
   "cell_type": "markdown",
   "id": "ef6bcc5e-2920-4ccc-970d-5e0b1f8ed1a6",
   "metadata": {},
   "source": [
    "### Linking"
   ]
  },
  {
   "cell_type": "markdown",
   "id": "a30d5c94-a63a-4fb1-9405-ba014458eedc",
   "metadata": {},
   "source": [
    "The `<iostream>` header provides declarations for input / output classes like `std::cin`, `std::cout`, and `std::endl`. These are defined in the standard C++ library, which is automatically linked by the compiler. You don't need to manually link any `.a` or `.so` file — the compiler links the C++ standard library by default. Some libraries require explicit linking:\n",
    "\n",
    "```bash\n",
    "g++ main.cpp -lm     # link the math library (libm)\n",
    "g++ main.cpp         # links the standard C++ library automatically\n",
    "```\n",
    "\n",
    "In Python when you do `import math`,\n",
    "you're not recompiling the `math` module. Python just links your code to an already compiled `.so` or `.pyd` file. The same idea applies in C++ — but it happens at compile + link time instead of import time. Pre-compiled libraries (compiled by the compiler vendor or maintainer) allow compilation of new code to be faster (i.e. compile once, reuse multiple times). Going back to `<iostream>`, this header declares `std::cout`.\n",
    "The implementation of `std::cout` lives in a compiled library like `libc++.dylib` (macOS). The compiler knows where to find and link that binary automatically.\n"
   ]
  },
  {
   "cell_type": "code",
   "execution_count": 8,
   "id": "919f896a-2a57-4763-be66-785c5736ba92",
   "metadata": {},
   "outputs": [
    {
     "name": "stdout",
     "output_type": "stream",
     "text": [
      "$ g++-15 ./code/01_01.cpp -o ./code/01_01\n",
      "$ ./code/01_01\n",
      "\n",
      "Hello, world!\n",
      "0.5863211154937744\n"
     ]
    }
   ],
   "source": [
    "import time\n",
    "\n",
    "t0 = time.time()\n",
    "run(\"01_01\")\n",
    "print(time.time() - t0)"
   ]
  },
  {
   "cell_type": "markdown",
   "id": "86dbccb6-9077-4115-974f-dd9ecffb61b3",
   "metadata": {},
   "source": [
    "Not compiling results in ~8-9x speedup (on my machine):"
   ]
  },
  {
   "cell_type": "code",
   "execution_count": 9,
   "id": "f80f033a-bbac-4d5a-99c3-cab343d4383a",
   "metadata": {},
   "outputs": [
    {
     "name": "stdout",
     "output_type": "stream",
     "text": [
      "$ ./code/01_01\n",
      "\n",
      "Hello, world!\n",
      "0.11997699737548828\n"
     ]
    }
   ],
   "source": [
    "t0 = time.time()\n",
    "run(\"01_01\", comp=False)\n",
    "print(time.time() - t0)"
   ]
  },
  {
   "cell_type": "markdown",
   "id": "add2d7d0-6427-4fdd-a867-9e5369c75585",
   "metadata": {},
   "source": [
    "## The `main` function"
   ]
  },
  {
   "cell_type": "markdown",
   "id": "0ed0fabf-73cb-4248-898d-0f1ff2d50174",
   "metadata": {},
   "source": [
    "Unlike Python, every C++ program must have a `main` function which begins with `int main()`. This `main` function is called implicitly instead of explicitly like we must do in Python when we have a main function. This is why you do not see an explicit function call invoking main."
   ]
  },
  {
   "cell_type": "markdown",
   "id": "d88e50d7-c7b3-4d80-a07c-f1e3e4be717f",
   "metadata": {},
   "source": [
    "This is very similar to the Python version. Except that we have to specify the type of the return value. And that the integer return value must be specified to some integer value (customary to return `0` whenever there is no error, and specific return values for error handling). I tried to do `void main()` in C++ which is closer in spirit, but it results in an error: \n",
    "\n",
    "```\n",
    "error: '::main' must return 'int'\n",
    "```"
   ]
  },
  {
   "cell_type": "markdown",
   "id": "b03a13e6-e4d4-4d5d-b275-5e5371d77de7",
   "metadata": {},
   "source": [
    "A more accurate Python version should then be:"
   ]
  },
  {
   "cell_type": "code",
   "execution_count": 10,
   "id": "c997664b-1d9f-4fbc-818f-6a8ff9d86596",
   "metadata": {},
   "outputs": [
    {
     "name": "stdout",
     "output_type": "stream",
     "text": [
      "Hello, world!\n"
     ]
    },
    {
     "data": {
      "text/plain": [
       "42"
      ]
     },
     "execution_count": 10,
     "metadata": {},
     "output_type": "execute_result"
    }
   ],
   "source": [
    "def main():\n",
    "    print(\"Hello, world!\")\n",
    "    return 42\n",
    "\n",
    "main()"
   ]
  },
  {
   "cell_type": "markdown",
   "id": "a51830f6-1608-4fee-a73a-abacc32b217d",
   "metadata": {},
   "source": [
    "That translates to:"
   ]
  },
  {
   "cell_type": "code",
   "execution_count": 11,
   "id": "f74f9d4f-f9d0-4e00-a411-40d6c956d984",
   "metadata": {},
   "outputs": [
    {
     "name": "stdout",
     "output_type": "stream",
     "text": [
      "Overwriting ./code/01_03.cpp\n"
     ]
    }
   ],
   "source": [
    "%%writefile \"./code/01_03.cpp\"\n",
    "#include <iostream>\n",
    "using namespace std;\n",
    "\n",
    "int main(){\n",
    "    cout << \"Hello World!\\n\";\n",
    "    return 42;\n",
    "}"
   ]
  },
  {
   "cell_type": "code",
   "execution_count": 12,
   "id": "dd8a3e58-96b7-4305-8e7c-2d9c967e8430",
   "metadata": {},
   "outputs": [
    {
     "name": "stdout",
     "output_type": "stream",
     "text": [
      "Hello World!\n",
      "42\n"
     ]
    }
   ],
   "source": [
    "!g++-15 ./code/01_03.cpp -o ./code/01_03\n",
    "!./code/01_03; echo $?"
   ]
  },
  {
   "cell_type": "markdown",
   "id": "12574fb4-6d1d-4c9a-876d-ec4fe55294f7",
   "metadata": {},
   "source": [
    "## Standard I/O"
   ]
  },
  {
   "cell_type": "markdown",
   "id": "55903623-08d3-492b-a1cb-248eb666ef08",
   "metadata": {},
   "source": [
    "**Standard output.** Let's take a step back and look at `cout`. This actually stands for \"character output\" which sends character data to the screen. The operator `<<` directs the string to this output device. Note that multiple uses of `<<` onto `cout` corresponds to concatenating the strings:"
   ]
  },
  {
   "cell_type": "code",
   "execution_count": 13,
   "id": "14c83c35-347e-4275-9cca-d934a0ad9e5e",
   "metadata": {},
   "outputs": [
    {
     "name": "stdout",
     "output_type": "stream",
     "text": [
      "Overwriting ./code/01_04.cpp\n"
     ]
    }
   ],
   "source": [
    "%%writefile \"./code/01_04.cpp\"\n",
    "#include <iostream>\n",
    "using namespace std;\n",
    "\n",
    "int main(){\n",
    "    cout << \"Ever heard of rubber duck debugging?\" << endl;\n",
    "    cout << \"                __     \" << endl;\n",
    "    cout << \"              <(o )___-\" << endl;\n",
    "    cout << \"               ( .__> /\" << endl;\n",
    "    cout << \"                `----' \" << endl;    \n",
    "    return 0;\n",
    "}"
   ]
  },
  {
   "cell_type": "markdown",
   "id": "1f8443e7-b2c5-437c-b1bd-3db997e7cb28",
   "metadata": {},
   "source": [
    "**Q.** Why use `endl` when we can just `+ \"\\n\"`? It turns out that these have different side-effects. Inserting a newline character does not **flush** the output buffer. On the other hand, using `std::endl` inserts a newline and flushes the output stream (i.e., forces it to write to the terminal immediately). Flushing can be useful in interactive programs (e.g., before `cin >> ...`), but adds overhead.\n"
   ]
  },
  {
   "cell_type": "code",
   "execution_count": 14,
   "id": "8e16d59d-6524-41bf-9e1b-767fab5d54ed",
   "metadata": {},
   "outputs": [
    {
     "name": "stdout",
     "output_type": "stream",
     "text": [
      "$ g++-15 ./code/01_04.cpp -o ./code/01_04\n",
      "$ ./code/01_04\n",
      "\n",
      "Ever heard of rubber duck debugging?\n",
      "                __     \n",
      "              <(o )___-\n",
      "               ( .__> /\n",
      "                `----' \n"
     ]
    }
   ],
   "source": [
    "run()"
   ]
  },
  {
   "cell_type": "markdown",
   "id": "4921d563-2a23-470c-8184-881aa5fa9bbc",
   "metadata": {},
   "source": [
    "**Standard input.** Like `cout`, `cin` is also a character stream with `>>` used to direct input onto it. For standard input, we can pipe the input via terminal: "
   ]
  },
  {
   "cell_type": "code",
   "execution_count": 15,
   "id": "4ef53092-ebc4-42ef-9951-3c6cf460edd8",
   "metadata": {},
   "outputs": [
    {
     "name": "stdout",
     "output_type": "stream",
     "text": [
      "Overwriting ./code/01_05.cpp\n"
     ]
    }
   ],
   "source": [
    "%%writefile \"./code/01_05.cpp\"\n",
    "#include <iostream>\n",
    "using namespace std;\n",
    "\n",
    "int main(){\n",
    "    string resp;\n",
    "    cout << \"\\nEver heard of rubber duck debugging?\" << endl;\n",
    "    cin  >> resp;\n",
    "    if ((resp[0] == 'Y') || (resp[0] == 'y')){\n",
    "        cout << \"cool B)\" << endl;\n",
    "    }\n",
    "    else {\n",
    "        cout << \"Here you go.\" << endl;\n",
    "        cout << \"                __     \" << endl;\n",
    "        cout << \"              <(o )___-\" << endl;\n",
    "        cout << \"               ( .__> /\" << endl;\n",
    "        cout << \"                `----' \" << endl;    \n",
    "    }\n",
    "        \n",
    "    return 0;\n",
    "}"
   ]
  },
  {
   "cell_type": "markdown",
   "id": "52a65a33-2d6c-41b0-a625-e4c7c2e1b1bb",
   "metadata": {},
   "source": [
    "**Remark.** Using `\"Y\"` fails. This is because `response[0]` is a char that should be compared with another char `Y`. Meanwhile, `\"Y\"` is a `const char*` (C-style string)."
   ]
  },
  {
   "cell_type": "code",
   "execution_count": 16,
   "id": "0d25775f-adca-42fe-aeb1-86ee22fe1b38",
   "metadata": {},
   "outputs": [
    {
     "name": "stdout",
     "output_type": "stream",
     "text": [
      "\n",
      "Ever heard of rubber duck debugging?\n",
      "cool B)\n",
      "\n",
      "Ever heard of rubber duck debugging?\n",
      "Here you go.\n",
      "                __     \n",
      "              <(o )___-\n",
      "               ( .__> /\n",
      "                `----' \n"
     ]
    }
   ],
   "source": [
    "!g++-15 ./code/01_05.cpp -o ./code/01_05\n",
    "!echo \"yes\" | ./code/01_05\n",
    "!echo \"no\" | ./code/01_05"
   ]
  },
  {
   "cell_type": "markdown",
   "id": "4acaf84d-f5da-4c1c-b09e-29bc710dc024",
   "metadata": {},
   "source": [
    "## Type declarations"
   ]
  },
  {
   "cell_type": "markdown",
   "id": "99f1b291-eaa6-41f8-b793-ea1e0233b8fd",
   "metadata": {},
   "source": [
    "In the above examples, we declare new variables with a type, e.g. `string resp;`. Just like functions, all variables in C++ must be declared before use, and they cannot change type. This is known as **static typing**. \n",
    "\n",
    "The line `string resp` essentially tells the compiler to set aside sufficient space for a floating point number, and to name this memory location `resp`. Then whatever the user types in will be stored in the `resp` variable."
   ]
  },
  {
   "cell_type": "markdown",
   "id": "4045351f-cb60-40be-a6aa-6593822f3b52",
   "metadata": {},
   "source": [
    "## Conclusion"
   ]
  },
  {
   "cell_type": "markdown",
   "id": "d2abfc00-fdd1-4a07-8575-09ad8b65bcaf",
   "metadata": {},
   "source": [
    "We can now look back at the initial program with better understanding of its elements:\n",
    "\n",
    "```c++\n",
    "/* \n",
    "This hello world program demonstrates the C++ concepts\n",
    "of commenting, using libraries, and using output.\n",
    "*/\n",
    "\n",
    "#include <iostream>               // ①\n",
    "using namespace std;              // ② \n",
    "\n",
    "int main(){                       // ③   \n",
    "    cout << \"Hello World!\\n\";     // ④ \n",
    "    return 0;                     // ⑤\n",
    "}\n",
    "```"
   ]
  },
  {
   "cell_type": "markdown",
   "id": "e8dba841-7366-41b8-bc4b-271da7343975",
   "metadata": {},
   "source": [
    "1. directive for including iostream header\n",
    "2. makes `std::` implicit\n",
    "1. `main()` must exist & return an int\n",
    "2. character stream, print to std output device\n",
    "3. `0` indicates program ended correctly."
   ]
  },
  {
   "cell_type": "code",
   "execution_count": null,
   "id": "ce9fb3a7-62a0-47d9-b5ef-c0ae40aac2c3",
   "metadata": {},
   "outputs": [],
   "source": []
  }
 ],
 "metadata": {
  "kernelspec": {
   "display_name": "ai-notebooks",
   "language": "python",
   "name": "ai-notebooks"
  },
  "language_info": {
   "codemirror_mode": {
    "name": "ipython",
    "version": 3
   },
   "file_extension": ".py",
   "mimetype": "text/x-python",
   "name": "python",
   "nbconvert_exporter": "python",
   "pygments_lexer": "ipython3",
   "version": "3.13.5"
  }
 },
 "nbformat": 4,
 "nbformat_minor": 5
}
