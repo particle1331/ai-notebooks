{
 "cells": [
  {
   "cell_type": "markdown",
   "id": "820cbe75-5925-4284-8d07-9fa925950029",
   "metadata": {},
   "source": [
    "# Control Structures"
   ]
  },
  {
   "cell_type": "code",
   "execution_count": 1,
   "id": "4d5e3af5-8d77-44e4-b985-4cc0d6407acc",
   "metadata": {},
   "outputs": [],
   "source": [
    "from utils import runcpp"
   ]
  },
  {
   "cell_type": "markdown",
   "id": "1561b1b0-955f-4e82-96d6-82279cf3a515",
   "metadata": {},
   "source": [
    "## Conditionals"
   ]
  },
  {
   "cell_type": "markdown",
   "id": "3dd79582-e98a-412d-b248-34fc353b0fb0",
   "metadata": {},
   "source": [
    "C++ if-else is just like Python. It doesn't have `elif`. But it does allow chaining `else if` to emulate the same behavior."
   ]
  },
  {
   "cell_type": "code",
   "execution_count": 2,
   "id": "5796241a-ea73-4955-837c-2069f757e559",
   "metadata": {},
   "outputs": [
    {
     "name": "stdout",
     "output_type": "stream",
     "text": [
      "g++ -std=c++23 ./code/tmp.cpp -o ./code/tmp\n",
      "\n"
     ]
    }
   ],
   "source": [
    "%%runcpp --run=false\n",
    "#include <iostream>\n",
    "using namespace std;\n",
    "\n",
    "int main(){\n",
    "    int grade;\n",
    "    cin >> grade;\n",
    "\n",
    "    if (grade < 60){\n",
    "        cout << 'F' << endl;\n",
    "    }\n",
    "    else if (grade < 70){\n",
    "        cout << 'D' << endl;\n",
    "    }\n",
    "    else if (grade < 80){\n",
    "        cout << 'C' << endl;\n",
    "    }\n",
    "    else if (grade < 90){\n",
    "        cout << 'B' << endl;\n",
    "    }\n",
    "    else {\n",
    "        cout << 'A' << endl;\n",
    "    }\n",
    "    \n",
    "    return 0;\n",
    "}"
   ]
  },
  {
   "cell_type": "code",
   "execution_count": 3,
   "id": "9db61f0a-1c70-4712-8181-7c9e8bf83125",
   "metadata": {},
   "outputs": [
    {
     "name": "stdout",
     "output_type": "stream",
     "text": [
      "F\n"
     ]
    }
   ],
   "source": [
    "!echo 10 | ./code/tmp"
   ]
  },
  {
   "cell_type": "code",
   "execution_count": 4,
   "id": "098d352c-30cd-4bf2-86f2-013af4163cf9",
   "metadata": {},
   "outputs": [
    {
     "name": "stdout",
     "output_type": "stream",
     "text": [
      "B\n"
     ]
    }
   ],
   "source": [
    "!echo 83 | ./code/tmp"
   ]
  },
  {
   "cell_type": "markdown",
   "id": "c046d23d-1d7a-4090-aa5b-7fdef821633a",
   "metadata": {},
   "source": [
    "**Remark.** There also the `switch` keyword, which uses `case` and `break`. "
   ]
  },
  {
   "cell_type": "markdown",
   "id": "6d804d85-771f-4874-a33b-a14febfc1458",
   "metadata": {},
   "source": [
    "## While loops"
   ]
  },
  {
   "cell_type": "code",
   "execution_count": 5,
   "id": "d08e6670-0a49-4c25-9f68-9a42829b4a17",
   "metadata": {},
   "outputs": [
    {
     "name": "stdout",
     "output_type": "stream",
     "text": [
      "g++ -std=c++23 ./code/tmp.cpp -o ./code/tmp\n",
      "./code/tmp\n",
      "\n",
      "0 Hello, world!\n",
      "1 Hello, world!\n",
      "2 Hello, world!\n",
      "3 Hello, world!\n",
      "4 Hello, world!\n"
     ]
    }
   ],
   "source": [
    "%%runcpp\n",
    "#include <iostream>\n",
    "using namespace std;\n",
    "\n",
    "int main(){\n",
    "    int c = 0;\n",
    "    while (c < 5){\n",
    "        cout << c << \" Hello, world!\\n\";\n",
    "        c += 1;\n",
    "    }\n",
    "    return 0;\n",
    "}"
   ]
  },
  {
   "cell_type": "markdown",
   "id": "1882ee7a-f0c3-485b-b356-c40304d7eb5b",
   "metadata": {},
   "source": [
    "Checking ints as condition:"
   ]
  },
  {
   "cell_type": "code",
   "execution_count": 6,
   "id": "cb6978b6-5d6c-4e7b-a6fb-5f79e64bb203",
   "metadata": {},
   "outputs": [
    {
     "name": "stdout",
     "output_type": "stream",
     "text": [
      "g++ -std=c++23 ./code/tmp.cpp -o ./code/tmp\n",
      "./code/tmp\n",
      "\n",
      "ok\n",
      "not\n",
      "ok\n"
     ]
    }
   ],
   "source": [
    "%%runcpp\n",
    "#include <iostream>\n",
    "using namespace std;\n",
    "\n",
    "int main(){\n",
    "    int x;\n",
    "    x = -1; if (x) {cout << \"ok\" << endl;} else {cout << \"not\" << endl;}\n",
    "    x =  0; if (x) {cout << \"ok\" << endl;} else {cout << \"not\" << endl;}\n",
    "    x = +1; if (x) {cout << \"ok\" << endl;} else {cout << \"not\" << endl;}\n",
    "    return 0;\n",
    "}"
   ]
  },
  {
   "cell_type": "markdown",
   "id": "b4d78023-f08e-4b16-abbf-0a03c55cb16f",
   "metadata": {},
   "source": [
    "## For loops"
   ]
  },
  {
   "cell_type": "markdown",
   "id": "b3c943e1-9e87-45ff-9ac9-f323d2211c47",
   "metadata": {},
   "source": [
    "Same while loop above as a for loop:"
   ]
  },
  {
   "cell_type": "code",
   "execution_count": 7,
   "id": "bdc63ce3-e7e7-4c3c-816f-65d7deffd958",
   "metadata": {},
   "outputs": [
    {
     "name": "stdout",
     "output_type": "stream",
     "text": [
      "g++ -std=c++23 ./code/tmp.cpp -o ./code/tmp\n",
      "./code/tmp\n",
      "\n",
      "0 Hello, world!\n",
      "1 Hello, world!\n",
      "2 Hello, world!\n",
      "3 Hello, world!\n",
      "4 Hello, world!\n"
     ]
    }
   ],
   "source": [
    "%%runcpp\n",
    "#include <iostream>\n",
    "using namespace std;\n",
    "\n",
    "int main() {\n",
    "    for (int c = 0; c < 5; c++){\n",
    "        cout << c << \" Hello, world!\" << endl;\n",
    "    }\n",
    "}"
   ]
  },
  {
   "cell_type": "code",
   "execution_count": null,
   "id": "8814ca55",
   "metadata": {},
   "outputs": [],
   "source": []
  }
 ],
 "metadata": {
  "kernelspec": {
   "display_name": "ai-notebooks",
   "language": "python",
   "name": "python3"
  },
  "language_info": {
   "codemirror_mode": {
    "name": "ipython",
    "version": 3
   },
   "file_extension": ".py",
   "mimetype": "text/x-python",
   "name": "python",
   "nbconvert_exporter": "python",
   "pygments_lexer": "ipython3",
   "version": "3.13.5"
  }
 },
 "nbformat": 4,
 "nbformat_minor": 5
}
