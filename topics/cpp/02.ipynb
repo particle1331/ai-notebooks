{
 "cells": [
  {
   "cell_type": "markdown",
   "id": "2421c9ca-f968-407a-a931-670e505cff8e",
   "metadata": {},
   "source": [
    "# Atomic C++ Data Types"
   ]
  },
  {
   "cell_type": "markdown",
   "id": "0086e77a-10dd-4b71-8d61-e2edd3bd8dee",
   "metadata": {},
   "source": [
    "Recall that C++ requires users to specify the **data type** of each variable. The **primary built-in** data types in C++ are: `int`, `float`, `double`, `bool`, and `char`. There is also a special type called `pointer` which holds a memory location. C++ also has a collection of [compound data types](https://www.learncpp.com/cpp-tutorial/introduction-to-compound-data-types/)."
   ]
  },
  {
   "cell_type": "markdown",
   "id": "87f41ef7-f868-4cba-8a9b-435d85b52c98",
   "metadata": {},
   "source": [
    "### Numeric data"
   ]
  },
  {
   "cell_type": "markdown",
   "id": "97ccfb25-8d45-46b5-95b1-47a974d00797",
   "metadata": {},
   "source": [
    "These are `int`, `float`, and `double`. Note that there is no distinction between integer and float division in C++ (unlike in Python). That is, when two integers are divided, then integer division is done. Otherwise, it's float division whenever one of the numbers is a float.\n",
    "\n",
    "Exponentiation is done using `pow()` from the `cmath` library and the remainder (modulo) operator is done with `%`. Modulo outputs `int` while `pow()` outputs `double`."
   ]
  },
  {
   "cell_type": "code",
   "execution_count": 1,
   "id": "8c5bae78-d20c-4db1-b4cd-b8df7858e200",
   "metadata": {},
   "outputs": [],
   "source": [
    "from utils import runcpp"
   ]
  },
  {
   "cell_type": "code",
   "execution_count": 2,
   "id": "2706ffe1-db57-44f4-a6e8-be05a62bc765",
   "metadata": {},
   "outputs": [
    {
     "name": "stdout",
     "output_type": "stream",
     "text": [
      "g++-15 ./code/tmp.cpp -o ./code/tmp\n",
      "./code/tmp\n",
      "\n",
      "(i) 14\n",
      "(i) 20\n",
      "(d) 20\n",
      "\n",
      "(i) 2\n",
      "(f) 2.33333\n",
      "(d) 2.33333\n",
      "(d) 2\n",
      "\n",
      "(i) 1\n",
      "(d) 2\n",
      "(d) 1024\n",
      "(d) 1.26765e+30\n"
     ]
    }
   ],
   "source": [
    "%%runcpp\n",
    "#include <iostream>\n",
    "#include <cmath>\n",
    "using namespace std;\n",
    "\n",
    "int main(){\n",
    "    auto print_type = [](auto expr) {\n",
    "        cout << \"(\" << typeid(expr).name() << \") \" << expr << endl;\n",
    "    };\n",
    "\n",
    "    // order of operations\n",
    "    print_type(2 + 3 * 4);\n",
    "    print_type((2 + 3) * 4);\n",
    "    print_type((2 + 3.) * 4);\n",
    "\n",
    "    // float & integer division\n",
    "    cout << endl;\n",
    "    print_type(7 / 3);\n",
    "    print_type(float(7) / 3);\n",
    "    print_type(7. / 3);\n",
    "    print_type(6. / 3);\n",
    "\n",
    "    // modulo & pow\n",
    "    cout << endl;\n",
    "    print_type(7 % 3);\n",
    "    print_type(pow(2, 1));\n",
    "    print_type(pow(2, 10));\n",
    "    print_type(pow(2, 100));\n",
    "\n",
    "    return 0;\n",
    "}"
   ]
  },
  {
   "cell_type": "markdown",
   "id": "8a99a554-0323-4527-8c8b-5907274732c2",
   "metadata": {},
   "source": [
    "Observe that C++ defaults to `double` (e.g. `7.` is of type `double`). The only result that is `float` is when we explicitly casted `float(7)`. Also, notice that the presence of a double in the operation promotes the `int` to double which makes sense.\n",
    "\n",
    "Finally, we use a **lambda function** with automatically deduced input and output type `auto`. The `[]` is the **capture clause**. Empty `[]` means the lambda does not capture any variables from the surrounding scope.\n",
    "\n",
    "**Remark.** Modifiers like `short`, `long`, and `unsigned` can optionally be used for numeric variables to help ensure that space is used as efficiently as possible."
   ]
  },
  {
   "cell_type": "markdown",
   "id": "c74e800c-9946-4e92-9128-57bf47494e32",
   "metadata": {},
   "source": [
    "## Boolean data"
   ]
  },
  {
   "cell_type": "markdown",
   "id": "77a92cc1-c0cd-4163-8c2b-44acdd8e0c5c",
   "metadata": {},
   "source": [
    "C++ uses the keyword `bool` which is not capitalized. The possible state values for a C++ Boolean are `true` and `false` (note: lower case). C++ uses the standard Boolean operators: `&&` (AND), `||` (OR), and `!` (NOT).\n",
    "\n",
    "Note that the internally stored values representing `true` and `false` are `1` and `0`, respectively. Moreover, you can perform math operations of the `1`s and `0`s where they are casted as a numeric type. Indeed:"
   ]
  },
  {
   "cell_type": "code",
   "execution_count": 3,
   "id": "3ec1f2bd-083c-4d3a-b97e-4464467aa278",
   "metadata": {},
   "outputs": [
    {
     "name": "stdout",
     "output_type": "stream",
     "text": [
      "g++-15 ./code/tmp.cpp -o ./code/tmp\n",
      "./code/tmp\n",
      "\n",
      "(b) 1\n",
      "(b) 0\n",
      "1\n",
      "0\n",
      "(i) 2\n",
      "(d) 1\n"
     ]
    }
   ],
   "source": [
    "%%runcpp\n",
    "#include <iostream>\n",
    "using namespace std;\n",
    "\n",
    "int main() {\n",
    "    auto print_type = [](auto expr) {\n",
    "        cout << \"(\" << typeid(expr).name() << \") \" << expr << endl;\n",
    "    };\n",
    "\n",
    "    print_type(true);\n",
    "    print_type(false);\n",
    "    cout << (true || false) << endl;\n",
    "    cout << (true && false) << endl;\n",
    "    print_type(true + true);\n",
    "    print_type(true * 1.);\n",
    "    return 0;\n",
    "}"
   ]
  },
  {
   "cell_type": "markdown",
   "id": "c8c10f44-ac86-4347-9cac-6d603ef9b20f",
   "metadata": {},
   "source": [
    "Boolean data are also used as results for things like comparison (`<`, `==`, etc.). As usual, relational and logical operators can be combined to form complex logical conditions. The following function demonstrates relational operators:"
   ]
  },
  {
   "cell_type": "code",
   "execution_count": 4,
   "id": "87a638b9-de47-478c-94e5-892efe9107c8",
   "metadata": {},
   "outputs": [
    {
     "name": "stdout",
     "output_type": "stream",
     "text": [
      "g++-15 ./code/tmp.cpp -o ./code/tmp\n",
      "./code/tmp\n",
      "\n",
      "0\n",
      "1\n",
      "1\n",
      "1\n"
     ]
    }
   ],
   "source": [
    "%%runcpp\n",
    "#include <iostream>\n",
    "using namespace std;\n",
    "\n",
    "int main(){\n",
    "    cout << (5 == 10) << endl;\n",
    "    cout << (10 > 5) << endl;\n",
    "    cout << ((5 >= 1) && (5 <= 10)) << endl;\n",
    "    cout << ((5 >= 1) || (1 / 0)) << endl;\n",
    "    return 0;\n",
    "}"
   ]
  },
  {
   "cell_type": "markdown",
   "id": "3659f47c-ac43-4ec4-93da-ff3b0c4f976e",
   "metadata": {},
   "source": [
    "**Remark.** Observe **short circuit** with OR works as `1/0` was not evaluated."
   ]
  },
  {
   "cell_type": "markdown",
   "id": "398b65e6-c065-4c61-896e-656f4565ae3f",
   "metadata": {},
   "source": [
    "One gotcha with booleans is assignment. If you assign a non-null (i.e. nonzero), then it becomes evaluated as `1`. That is, `false = 0` and `!false = true`. To see this:"
   ]
  },
  {
   "cell_type": "code",
   "execution_count": 5,
   "id": "4f9ca927-5165-4e30-9aa5-416e52a740c3",
   "metadata": {},
   "outputs": [
    {
     "name": "stdout",
     "output_type": "stream",
     "text": [
      "g++-15 ./code/tmp.cpp -o ./code/tmp\n",
      "./code/tmp\n",
      "\n",
      "1\n"
     ]
    }
   ],
   "source": [
    "%%runcpp\n",
    "#include <iostream>\n",
    "using namespace std;\n",
    "\n",
    "int main(){\n",
    "    bool bool_var = -1;\n",
    "    cout << bool_var << endl;\n",
    "    return 0;\n",
    "}"
   ]
  },
  {
   "cell_type": "markdown",
   "id": "3eaf989f-be2f-4147-8c8c-612f2b55c69a",
   "metadata": {},
   "source": [
    "Assigning -1 to a `bool` evaluates to 1! But this is intended behavior due to static typing."
   ]
  },
  {
   "cell_type": "markdown",
   "id": "2542b72f-c5c0-473d-b98d-7961f8c835ef",
   "metadata": {},
   "source": [
    "## Character data"
   ]
  },
  {
   "cell_type": "markdown",
   "id": "67c54d5c-8088-4cf6-a605-54f26dbe9757",
   "metadata": {},
   "source": [
    "In Python strings can be created with single or double quotes. In C++ single quotes (') are used for the character (`char`) data type, and double quotes (\") are used for the `string` data type.\n",
    "\n",
    "Strings in C++ provides dynamic memory management of an array of chars. It supports built-in methods (e.g. `.size()`, `.substr()`, `.find()`), and features safety and flexibility over raw C-style strings (e.g. `char cstr[] = \"hello\";`). Note that `\"a\" == 'a'` results in an error in C++."
   ]
  },
  {
   "cell_type": "markdown",
   "id": "618360b0-18e5-4604-8889-0f9508c8e9af",
   "metadata": {},
   "source": [
    "```c++\n",
    "char a = 'h';\n",
    "char cstr[] = \"hello\";      // C-style string (char array)\n",
    "std::string str = \"hello\";  // C++ string object\n",
    "```"
   ]
  },
  {
   "cell_type": "markdown",
   "id": "dbec0c2b-b458-4b0b-80a3-4bc5fc40a3e2",
   "metadata": {},
   "source": [
    "But you can convert between them:"
   ]
  },
  {
   "cell_type": "markdown",
   "id": "4ab07d52-3cb9-48e4-a537-a6711c10aa77",
   "metadata": {},
   "source": [
    "```c++\n",
    "str.c_str();         // std::string → const char*\n",
    "std::string(cstr);   // char* → std::string\n",
    "```"
   ]
  },
  {
   "cell_type": "markdown",
   "id": "fc98d4a0-669a-4b99-943a-947459ea6754",
   "metadata": {},
   "source": [
    "## Pointers"
   ]
  },
  {
   "cell_type": "markdown",
   "id": "ae4984a6-bfcb-41cd-8d35-da9f25469895",
   "metadata": {},
   "source": [
    "In C++, an assignment like below consists of (1) allocating space in memory and (2) storing the value of a variable:\n",
    "\n",
    "```c++\n",
    "int var = 100;\n",
    "```\n",
    "\n",
    "To get the address of a variable in memory we use the **address-of** operator `&`:"
   ]
  },
  {
   "cell_type": "code",
   "execution_count": 6,
   "id": "e04ece41-4953-4227-ab99-f29b8451a300",
   "metadata": {},
   "outputs": [
    {
     "name": "stdout",
     "output_type": "stream",
     "text": [
      "g++-15 ./code/tmp.cpp -o ./code/tmp\n",
      "./code/tmp\n",
      "\n",
      "0x16d0f6d6c 100\n",
      "0x16d0f6d6c 200\n"
     ]
    }
   ],
   "source": [
    "%%runcpp\n",
    "#include <iostream>\n",
    "using namespace std;\n",
    "\n",
    "int main(){\n",
    "    int var = 100;\n",
    "    cout << &var << \" \" << var << endl;\n",
    "    var = 200;\n",
    "    cout << &var << \" \" << var << endl;\n",
    "    return 0;\n",
    "}"
   ]
  },
  {
   "cell_type": "markdown",
   "id": "3a0c5e62-4d8d-420f-bdd3-b6f53614f085",
   "metadata": {},
   "source": [
    "**Remark.** For basic types declared in a function scope, the address is fixed during their lifetime."
   ]
  },
  {
   "cell_type": "markdown",
   "id": "2d3682d7-26c3-48ce-a549-b282fda4a472",
   "metadata": {},
   "source": [
    "In Python, it is impossible to store a variable directly. Instead, a **reference** to the data object is used. In C++, variables store values directly, because they are faster to reference. References are slower, but they are sometimes useful. If in C++, we want to create an analogous reference to a memory location, we must use a special data type called a **pointer**.\n"
   ]
  },
  {
   "cell_type": "markdown",
   "id": "05e71881-5ba9-4f63-89e9-03d2fba9604a",
   "metadata": {},
   "source": [
    "### Pointer syntax"
   ]
  },
  {
   "cell_type": "markdown",
   "id": "fcb9d03a-0f02-45a8-ad14-59b5dee1c993",
   "metadata": {},
   "source": [
    "**Pointer init.** The syntax for initializing a pointer is similar to the usual assignment except we use `*` between the data type and the identifier:\n",
    "\n",
    "```c++\n",
    "int *ptr;\n",
    "```"
   ]
  },
  {
   "cell_type": "code",
   "execution_count": 7,
   "id": "3c9be9f1-f91e-4a3f-a47d-89680c2d67ea",
   "metadata": {},
   "outputs": [
    {
     "name": "stdout",
     "output_type": "stream",
     "text": [
      "g++-15 ./code/tmp.cpp -o ./code/tmp\n",
      "./code/tmp\n",
      "\n",
      "0x585b00018c66b140\n"
     ]
    }
   ],
   "source": [
    "%%runcpp\n",
    "#include <iostream>\n",
    "using namespace std;\n",
    "\n",
    "int main(){\n",
    "    int *ptr;\n",
    "    cout << ptr << endl;\n",
    "    return 0;\n",
    "}"
   ]
  },
  {
   "cell_type": "markdown",
   "id": "1fa59cd0-4212-4d19-bb5c-bf897a2211ea",
   "metadata": {},
   "source": [
    "### Assigning an address using `&`"
   ]
  },
  {
   "cell_type": "markdown",
   "id": "bf2c2c68-b64a-4ebb-8d19-6d9da6505040",
   "metadata": {},
   "source": [
    "One way to do this is to have a pointer refer to another variable by using the address-of operator `&`, which we know returns the address of a variable."
   ]
  },
  {
   "cell_type": "code",
   "execution_count": 8,
   "id": "f569f8d3-6b90-4393-9915-b482920dff37",
   "metadata": {},
   "outputs": [
    {
     "name": "stdout",
     "output_type": "stream",
     "text": [
      "g++-15 ./code/tmp.cpp -o ./code/tmp\n",
      "./code/tmp\n",
      "\n",
      "0x16d326d64\n",
      "100\n",
      "0x16d326d64\n",
      "200\n"
     ]
    }
   ],
   "source": [
    "%%runcpp\n",
    "#include <iostream>\n",
    "using namespace std;\n",
    "\n",
    "int main(){\n",
    "    int var = 100;\n",
    "    int *ptr = &var;\n",
    "    cout << ptr << endl;     // address of var\n",
    "    cout << *ptr << endl;    // dereference to get value\n",
    "\n",
    "    // trying out reassignment\n",
    "    var = 200;\n",
    "    cout << &var << endl;\n",
    "    cout << *ptr << endl;\n",
    "    return 0;\n",
    "}"
   ]
  },
  {
   "cell_type": "markdown",
   "id": "7a25e45b-c293-45d4-b95f-8b5baf96e2cf",
   "metadata": {},
   "source": [
    "**Remark.** If we assign an address for a location that is outside of your **segment** (area in memory reserved for your program), the operating system will jump in with a message about a \"**segmentation fault**\" (aka **segfault**). (Although such an error message looks bad, a seg fault is in fact a helpful error because unlike the elusive logical errors, the reason is fairly localized.)"
   ]
  },
  {
   "cell_type": "markdown",
   "id": "b1b5c30d-671e-469b-a5db-44ae95e164d5",
   "metadata": {},
   "source": [
    "### Null pointer"
   ]
  },
  {
   "cell_type": "markdown",
   "id": "68ce63da-9fe8-418b-9c35-23ca496ba61b",
   "metadata": {},
   "source": [
    "Like `None` in Python, the null pointer (`nullptr`) in C++ points to nothing. The null pointer is often used in conditions AND / OR in logical operations. The ff. example shows how the null pointer works. We \n",
    "\n",
    "The following example demonstrates how the null pointer works. The variable `ptrx` initially has the address of `x` when it is declared. On the first iteration of the loop, it is assigned the value of nullptr, which evaluates to a false value; thereby ending the loop:\n",
    "\n"
   ]
  },
  {
   "cell_type": "code",
   "execution_count": 9,
   "id": "7f162acf-e70d-426c-95e1-0137262eb8ef",
   "metadata": {},
   "outputs": [
    {
     "name": "stdout",
     "output_type": "stream",
     "text": [
      "g++-15 ./code/tmp.cpp -o ./code/tmp\n",
      "./code/tmp\n",
      "\n",
      "Pointer ptrx points to 0x16bb82d64\n",
      "Pointer ptrx points to nothing: 0\n",
      "-11\n"
     ]
    }
   ],
   "source": [
    "%%runcpp --exitcode=true\n",
    "#include <iostream>\n",
    "using namespace std;\n",
    "\n",
    "int main() {\n",
    "    int x = 12345;\n",
    "    int *ptrx = &x;\n",
    "\n",
    "    while (ptrx) {\n",
    "        cout << \"Pointer ptrx points to \" << ptrx << endl;\n",
    "        ptrx = nullptr;\n",
    "    }\n",
    "\n",
    "    cout << \"Pointer ptrx points to nothing: \" << ptrx << endl;\n",
    "    cout << *ptrx << \"segfault?\" << endl;\n",
    "\n",
    "    return 0;\n",
    "}"
   ]
  },
  {
   "cell_type": "markdown",
   "id": "cc1a92d7-423d-48ac-9ebe-89470816b5bf",
   "metadata": {},
   "source": [
    "**NOTE:** Dereferencing the null pointer results in undefined behavior. Hence, the program crashed before it can print the last string ([-11 = segfault](https://docs.python.org/3/library/subprocess.html#subprocess.CompletedProcess.returncode))."
   ]
  },
  {
   "cell_type": "code",
   "execution_count": null,
   "id": "d88cd8a0-9575-4d68-b8e9-322bfc8520df",
   "metadata": {},
   "outputs": [],
   "source": []
  }
 ],
 "metadata": {
  "kernelspec": {
   "display_name": "ai-notebooks",
   "language": "python",
   "name": "ai-notebooks"
  },
  "language_info": {
   "codemirror_mode": {
    "name": "ipython",
    "version": 3
   },
   "file_extension": ".py",
   "mimetype": "text/x-python",
   "name": "python",
   "nbconvert_exporter": "python",
   "pygments_lexer": "ipython3",
   "version": "3.13.5"
  }
 },
 "nbformat": 4,
 "nbformat_minor": 5
}
