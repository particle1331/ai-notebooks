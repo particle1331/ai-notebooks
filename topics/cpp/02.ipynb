{
 "cells": [
  {
   "cell_type": "markdown",
   "id": "2421c9ca-f968-407a-a931-670e505cff8e",
   "metadata": {},
   "source": [
    "# Atomic C++ Data Types"
   ]
  },
  {
   "cell_type": "markdown",
   "id": "0086e77a-10dd-4b71-8d61-e2edd3bd8dee",
   "metadata": {},
   "source": [
    "Recall that C++ requires users to specify the **data type** of each variable. The **primary built-in** data types in C++ are: `int`, `float`, `double`, `bool`, and `char`. There is also a special type called `pointer` which holds a memory location. C++ also has a collection of [compound data types](https://www.learncpp.com/cpp-tutorial/introduction-to-compound-data-types/)."
   ]
  },
  {
   "cell_type": "markdown",
   "id": "87f41ef7-f868-4cba-8a9b-435d85b52c98",
   "metadata": {},
   "source": [
    "### Numeric data"
   ]
  },
  {
   "cell_type": "markdown",
   "id": "97ccfb25-8d45-46b5-95b1-47a974d00797",
   "metadata": {},
   "source": [
    "These are `int`, `float`, and `double`. Note that there is no distinction between integer and float division in C++ (unlike in Python). That is, when two integers are divided, then integer division is done. Otherwise, it's float division whenever one of the numbers is a float. Exponentiation is done using `pow()` from the `cmath` library and the remainder (modulo) operator is done with `%`."
   ]
  },
  {
   "cell_type": "code",
   "execution_count": 1,
   "id": "2706ffe1-db57-44f4-a6e8-be05a62bc765",
   "metadata": {},
   "outputs": [
    {
     "name": "stdout",
     "output_type": "stream",
     "text": [
      "Overwriting ./code/02_01.cpp\n"
     ]
    }
   ],
   "source": [
    "%%writefile ./code/02_01.cpp\n",
    "#include <iostream>\n",
    "#include <cmath>\n",
    "using namespace std;\n",
    "\n",
    "int main(){\n",
    "    // order of operations\n",
    "    cout << (2 + 3 * 4) << endl;\n",
    "    cout << (2 + 3) * 4 << endl;\n",
    "\n",
    "    // divisions\n",
    "    cout << endl;\n",
    "    cout << 7 / 3 << endl;\n",
    "    cout << float(7) / 3 << endl;\n",
    "    cout << 7. / 3 << endl;\n",
    "    cout << 6. / 3 << endl;\n",
    "\n",
    "    // modulo & pow\n",
    "    cout << endl;\n",
    "    cout << 7 % 3 << endl;\n",
    "    cout << pow(2, 10) << endl;\n",
    "    cout << pow(2, 100) << endl;\n",
    "\n",
    "    return 0;\n",
    "}"
   ]
  },
  {
   "cell_type": "code",
   "execution_count": 2,
   "id": "0e05306c-171d-4d93-b7a1-5ab8938f859e",
   "metadata": {},
   "outputs": [
    {
     "name": "stdout",
     "output_type": "stream",
     "text": [
      "$ g++-15 ./code/02_01.cpp -o ./code/02_01\n",
      "$ ./code/02_01\n",
      "\n",
      "14\n",
      "20\n",
      "\n",
      "2\n",
      "2.33333\n",
      "2.33333\n",
      "2\n",
      "\n",
      "1\n",
      "1024\n",
      "1.26765e+30\n"
     ]
    }
   ],
   "source": [
    "from utils import run\n",
    "\n",
    "run()"
   ]
  },
  {
   "cell_type": "markdown",
   "id": "8a99a554-0323-4527-8c8b-5907274732c2",
   "metadata": {},
   "source": [
    "**Remark.** Modifiers like `short`, `long`, and `unsigned` can optionally be used for numeric variables to help ensure that space is used as efficiently as possible."
   ]
  },
  {
   "cell_type": "markdown",
   "id": "c74e800c-9946-4e92-9128-57bf47494e32",
   "metadata": {},
   "source": [
    "\n",
    "## Boolean data"
   ]
  },
  {
   "cell_type": "markdown",
   "id": "77a92cc1-c0cd-4163-8c2b-44acdd8e0c5c",
   "metadata": {},
   "source": [
    "C++ uses the keyword `bool` which is not capitalized. The possible state values for a C++ Boolean are `true` and `false` (note: lower case). C++ uses the standard Boolean operators: `&&`, `||`, `!`. Note that the internally stored values representing `true` and `false` are actually `1` and `0` respectively. Indeed:"
   ]
  },
  {
   "cell_type": "code",
   "execution_count": 3,
   "id": "3ec1f2bd-083c-4d3a-b97e-4464467aa278",
   "metadata": {},
   "outputs": [
    {
     "name": "stdout",
     "output_type": "stream",
     "text": [
      "Overwriting ./code/02_02.cpp\n"
     ]
    }
   ],
   "source": [
    "%%writefile ./code/02_02.cpp\n",
    "#include <iostream>\n",
    "using namespace std;\n",
    "\n",
    "// function that demonstrates logical operators\n",
    "int main() {\n",
    "  cout << true  << endl;\n",
    "  cout << false << endl;\n",
    "  cout << (true || false) << endl;\n",
    "  cout << (true && false) << endl;\n",
    "  return 0;\n",
    "}"
   ]
  },
  {
   "cell_type": "code",
   "execution_count": 4,
   "id": "a72d17d6-a017-41d8-b390-e7ab25fee3ee",
   "metadata": {},
   "outputs": [
    {
     "name": "stdout",
     "output_type": "stream",
     "text": [
      "$ g++-15 ./code/02_02.cpp -o ./code/02_02\n",
      "$ ./code/02_02\n",
      "\n",
      "1\n",
      "0\n",
      "1\n",
      "0\n"
     ]
    }
   ],
   "source": [
    "run()"
   ]
  },
  {
   "cell_type": "markdown",
   "id": "c8c10f44-ac86-4347-9cac-6d603ef9b20f",
   "metadata": {},
   "source": [
    "Boolean data are also used as results for things like comparison (`<`, `==`, etc.). As usual, relational and logical operators can be combined to form complex logical conditions. The following function demonstrates relational operators:"
   ]
  },
  {
   "cell_type": "code",
   "execution_count": 15,
   "id": "87a638b9-de47-478c-94e5-892efe9107c8",
   "metadata": {},
   "outputs": [
    {
     "name": "stdout",
     "output_type": "stream",
     "text": [
      "Overwriting ./code/02_03.cpp\n"
     ]
    }
   ],
   "source": [
    "%%writefile ./code/02_03.cpp\n",
    "#include <iostream>\n",
    "using namespace std;\n",
    "\n",
    "int main(){\n",
    "    cout << (5 == 10) << endl;\n",
    "    cout << (10 > 5) << endl;\n",
    "    cout << ((5 >= 1) && (5 <= 10)) << endl;\n",
    "    cout << ((5 >= 1) || (1 / 0)) << endl;\n",
    "    return 0;\n",
    "}"
   ]
  },
  {
   "cell_type": "code",
   "execution_count": 16,
   "id": "35964ba7-3b56-4a84-b808-4065084af0c4",
   "metadata": {},
   "outputs": [
    {
     "name": "stdout",
     "output_type": "stream",
     "text": [
      "$ g++-15 ./code/02_03.cpp -o ./code/02_03\n",
      "$ ./code/02_03\n",
      "\n",
      "0\n",
      "1\n",
      "1\n",
      "1\n"
     ]
    }
   ],
   "source": [
    "run()"
   ]
  },
  {
   "cell_type": "markdown",
   "id": "3659f47c-ac43-4ec4-93da-ff3b0c4f976e",
   "metadata": {},
   "source": [
    "**Remark.** Observe short circuit with OR also works since `1/0` was not evaluated."
   ]
  },
  {
   "cell_type": "code",
   "execution_count": 17,
   "id": "4f9ca927-5165-4e30-9aa5-416e52a740c3",
   "metadata": {},
   "outputs": [
    {
     "name": "stdout",
     "output_type": "stream",
     "text": [
      "Writing ./code/02_04.cpp\n"
     ]
    }
   ],
   "source": [
    "%%writefile ./code/02_04.cpp\n",
    "#include <iostream>\n",
    "using namespace std;\n",
    "\n",
    "//  Demonstrates how to use variables in C++\n",
    "//  moreover, we assign an integer to a boolean variable,\n",
    "//  showing the static typing of C++.\n",
    "int main(){\n",
    "\n",
    "    int theSum = 4;\n",
    "    cout << theSum << endl;\n",
    "\n",
    "    theSum = theSum + 1;\n",
    "    cout << theSum << endl;\n",
    "\n",
    "    bool theBool = true;\n",
    "    cout << theBool << endl;\n",
    "\n",
    "    theBool = 4;\n",
    "    cout << theBool << endl;\n",
    "\n",
    "    return 0;\n",
    "}"
   ]
  },
  {
   "cell_type": "code",
   "execution_count": 18,
   "id": "1817f12c-2a0a-4fbf-9e64-74c093faae39",
   "metadata": {},
   "outputs": [
    {
     "name": "stdout",
     "output_type": "stream",
     "text": [
      "$ g++-15 ./code/02_04.cpp -o ./code/02_04\n",
      "$ ./code/02_04\n",
      "\n",
      "4\n",
      "5\n",
      "1\n",
      "1\n"
     ]
    }
   ],
   "source": [
    "run()"
   ]
  },
  {
   "cell_type": "code",
   "execution_count": null,
   "id": "2814eeff-46c3-47a5-a492-18954cb77d52",
   "metadata": {},
   "outputs": [],
   "source": []
  }
 ],
 "metadata": {
  "kernelspec": {
   "display_name": "ai-notebooks",
   "language": "python",
   "name": "ai-notebooks"
  },
  "language_info": {
   "codemirror_mode": {
    "name": "ipython",
    "version": 3
   },
   "file_extension": ".py",
   "mimetype": "text/x-python",
   "name": "python",
   "nbconvert_exporter": "python",
   "pygments_lexer": "ipython3",
   "version": "3.13.5"
  }
 },
 "nbformat": 4,
 "nbformat_minor": 5
}
