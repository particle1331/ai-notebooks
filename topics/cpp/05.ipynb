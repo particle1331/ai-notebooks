{
 "cells": [
  {
   "cell_type": "markdown",
   "id": "656720ae",
   "metadata": {},
   "source": [
    "# Collection Data Types"
   ]
  },
  {
   "cell_type": "markdown",
   "id": "9e31939c",
   "metadata": {},
   "source": [
    "In addition to the primitive types, C++ also offers built-in collection types. A **collection** data type is a grouping of some number of items (possibly 1 or 0) that have some shared significance or need to be operated upon together.\n",
    "\n",
    "**Arrays**, **vectors**, **strings**, **sets**, and **hash tables** are among these useful C++ collection types."
   ]
  },
  {
   "cell_type": "markdown",
   "id": "43ca5315",
   "metadata": {},
   "source": [
    "## Arrays"
   ]
  },
  {
   "cell_type": "markdown",
   "id": "ee75c0c8",
   "metadata": {},
   "source": [
    "An **array** data structure is an ordered arrangement of values located at equally spaced addresses in **contiguous computer memory**. C++ arrays can be allocated in two different ways:\n",
    "\n",
    "| Allocation | Description | Use case |\n",
    "| :-: | :-- | :-- |\n",
    "| **Static** | The array size is fixed at compile-time and cannot change | Speed is essential or where hardware constraints exist | \n",
    "| **Dynamic** | Pointers are used in the allocation process so the size can change at run-time | Typically used when more flexibility is required |\n"
   ]
  },
  {
   "cell_type": "markdown",
   "id": "cdb3c4fc",
   "metadata": {},
   "source": [
    "Dynamic arrays are called **vectors** in C++.\n",
    "\n",
    "**Remark.** As a Python programmer, you can think of the array as the ancestor of the Python list, and you might remember that Python lists are actually implemented via an underlying array consisting of references."
   ]
  },
  {
   "cell_type": "markdown",
   "id": "c6d46087",
   "metadata": {},
   "source": []
  }
 ],
 "metadata": {
  "language_info": {
   "name": "python"
  }
 },
 "nbformat": 4,
 "nbformat_minor": 5
}
