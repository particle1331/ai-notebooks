{
 "cells": [
  {
   "cell_type": "markdown",
   "id": "656720ae",
   "metadata": {},
   "source": [
    "# Collection Data Types"
   ]
  },
  {
   "cell_type": "markdown",
   "id": "9e31939c",
   "metadata": {},
   "source": [
    "In addition to the primitive types, C++ also offers built-in collection types. A **collection** data type is a grouping of some number of items (possibly 1 or 0) that have some shared significance or need to be operated upon together.\n",
    "\n",
    "**Arrays**, **vectors**, **strings**, **sets**, and **hash tables** are among these useful C++ collection types."
   ]
  },
  {
   "cell_type": "markdown",
   "id": "43ca5315",
   "metadata": {},
   "source": [
    "## Arrays"
   ]
  },
  {
   "cell_type": "markdown",
   "id": "ee75c0c8",
   "metadata": {},
   "source": [
    "An **array** data structure is an ordered arrangement of values located at equally spaced addresses in **contiguous computer memory**. The fact that array elements are stored in memory in contiguous memory locations making look-up via index very, very fast. In computing, a **word** is the unit of data used by a particular processor design, such as 32 or 64 bits. For example, an array of 100 integer variables, with indices 0 through 99, might be stored as 100 words at memory addresses `20000`, `20004`, `20008`, … `20396`. The element with index `i` would be located at the address `20000 + 4 × i`.\n",
    "\n",
    "C++ arrays can be allocated in two different ways:\n",
    "\n",
    "| Allocation | Description | Use case |\n",
    "| :-: | :-- | :-- |\n",
    "| **Static** | The array size is fixed at compile-time and cannot change | Speed is essential or where hardware constraints exist (real-time or low-level processing) |\n",
    "| **Dynamic** | Pointers are used in the allocation process so the size can change at run-time | Typically used when more flexibility is required | \n"
   ]
  },
  {
   "cell_type": "markdown",
   "id": "cdb3c4fc",
   "metadata": {},
   "source": [
    "**Remark.** As a Python programmer, you can think of the array as the ancestor of the Python list, and you might remember that Python lists are actually implemented via an underlying array consisting of references."
   ]
  },
  {
   "cell_type": "markdown",
   "id": "0bfab95b",
   "metadata": {},
   "source": [
    "**Static arrays.** This can be initialized by indicating both type and size (explicit or implicit):\n",
    "\n",
    "```c++\n",
    "double a[10];\n",
    "string s[] = {\"this\", \"is\", \"an\", \"array\", \"of\", \"strings\"};\n",
    "```\n",
    "\n",
    "Note that as tradeoff for efficiency, C++ arrays dont offer the same protections as Python:"
   ]
  },
  {
   "cell_type": "code",
   "execution_count": 1,
   "id": "c6d46087",
   "metadata": {},
   "outputs": [],
   "source": [
    "from utils import runcpp"
   ]
  },
  {
   "cell_type": "markdown",
   "id": "b1c3df8d",
   "metadata": {},
   "source": [
    "Here we did out of bounds access:"
   ]
  },
  {
   "cell_type": "code",
   "execution_count": 11,
   "id": "271bc5c0",
   "metadata": {},
   "outputs": [
    {
     "name": "stdout",
     "output_type": "stream",
     "text": [
      "g++ -std=c++23 ./code/tmp.cpp -o ./code/tmp\n",
      "./code/tmp\n",
      "\n"
     ]
    },
    {
     "name": "stderr",
     "output_type": "stream",
     "text": [
      "./code/tmp.cpp:7:13: warning: array index 5 is past the end of the array (that has type 'int[5]') [-Warray-bounds]\n",
      "    7 |     cout << A[5] << \" \" << &A[5] << endl;      // out of bounds access\n",
      "      |             ^ ~\n",
      "./code/tmp.cpp:5:5: note: array 'A' declared here\n",
      "    5 |     int A[] = {1, 2, 3, 4, 5};\n",
      "      |     ^\n",
      "1 warning generated.\n"
     ]
    },
    {
     "name": "stdout",
     "output_type": "stream",
     "text": [
      "5 0x16b7ae930\n",
      "1 0x16b7ae934\n",
      "0\n"
     ]
    }
   ],
   "source": [
    "%%runcpp --exitcode=true\n",
    "#include <iostream>\n",
    "using namespace std;\n",
    "\n",
    "int main() {\n",
    "    int A[] = {1, 2, 3, 4, 5};\n",
    "    cout << A[4] << \" \" << &A[4] << endl;\n",
    "    cout << A[5] << \" \" << &A[5] << endl;      // out of bounds access\n",
    "    return 0;\n",
    "}"
   ]
  },
  {
   "cell_type": "markdown",
   "id": "6fc5fdc2",
   "metadata": {},
   "source": [
    "It's nice that we get a warning from our compiler. But the exit code is still `0`. \n",
    "\n",
    "**Remark.** Observe that the addresses are spaced 4 apart. These are **bytes** which are the basic addressable unit of memory in most modern computer architectures. A byte consist of 8 bits (0 or 1). Primary data tpes are stored in multiple bytes:\n",
    "\n",
    "- `char`: 1 byte = 8 bits\n",
    "- `int` / `float`: 4 bytes = 32 bits\n",
    "- `double`: 8 bytes = 64 bits"
   ]
  },
  {
   "cell_type": "code",
   "execution_count": null,
   "id": "c89e6a06",
   "metadata": {},
   "outputs": [],
   "source": []
  }
 ],
 "metadata": {
  "kernelspec": {
   "display_name": "ai-notebooks",
   "language": "python",
   "name": "python3"
  },
  "language_info": {
   "codemirror_mode": {
    "name": "ipython",
    "version": 3
   },
   "file_extension": ".py",
   "mimetype": "text/x-python",
   "name": "python",
   "nbconvert_exporter": "python",
   "pygments_lexer": "ipython3",
   "version": "3.13.5"
  }
 },
 "nbformat": 4,
 "nbformat_minor": 5
}
