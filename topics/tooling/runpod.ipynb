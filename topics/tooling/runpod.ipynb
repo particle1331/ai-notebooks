{
 "cells": [
  {
   "cell_type": "markdown",
   "id": "1f04a4e8",
   "metadata": {},
   "source": [
    "# Runpod Dev Environment Setup"
   ]
  },
  {
   "cell_type": "markdown",
   "id": "d8399ba0",
   "metadata": {},
   "source": [
    "SSH implements public-key cryptography to establish trust between client and server systems. In this paradigm, we have the **public key** (`.pub`) that functions as an access *verifier*, installed on target systems (like Runpod nodes), and the **private key** serves as the unique authentication factor for mathematically proving identity.\n",
    "\n",
    "Below, we create public keys which we install onto Runpod and GitHub systems. The corresponding private key for Runpod is stored locally, while that for GitHub is securely copied via `scp`. This gives every new pod read and write access to GitHub repositories.\n",
    "\n",
    "![](./img/runpod-ssh.png)"
   ]
  },
  {
   "cell_type": "markdown",
   "id": "efb321ad",
   "metadata": {
    "vscode": {
     "languageId": "plaintext"
    }
   },
   "source": [
    "## Give local SSH access to pods\n",
    "\n",
    "1. Generate SSH keys for RunPod (no passphrase):\n",
    "```bash\n",
    "ssh-keygen -t ed25519 -C \"runpod\" -f ~/.ssh/runpod -N \"\"\n",
    "cat ~/.ssh/runpod.pub\n",
    "```\n",
    "2. Add this in `Settings>SSH Public Keys` (separated by newline).\n",
    "\n",
    "## Give pods SSH access to GitHub\n",
    "1. Generate SSH keys to access GitHub from each pod (no passphrase):\n",
    "```bash\n",
    "ssh-keygen -t ed25519 -C \"runpod-github\" -f ~/.ssh/runpod_github -N \"\"\n",
    "cat ~/.ssh/runpod_github.pub\n",
    "```\n",
    "2. Register the printed public SSH key in Github.\n",
    "3. Copy the pod **SSH over exposed TCP** connection string[^connstring] and paste below:\n",
    "```bash\n",
    "export RUNPOD_SSH=\"\"\n",
    "```\n",
    "4. Extract the **pod IP** and **port number**. Captured values are printed for manual verification:\n",
    "```bash\n",
    "export RUNPOD_IP=$(echo \"$RUNPOD_SSH\" | sed -E 's/.*@([0-9.]+).*/\\1/')\n",
    "export RUNPOD_PORT=$(echo \"$RUNPOD_SSH\" | sed -E 's/.*-p ([0-9]+).*/\\1/')\n",
    "\n",
    "echo $RUNPOD_IP\n",
    "echo $RUNPOD_PORT\n",
    "```\n",
    "5. Copy the GitHub SSH key to the pod and prepare the pod's SSH environment:\n",
    "```bash\n",
    "ssh-keyscan -p $RUNPOD_PORT $RUNPOD_IP >> ~/.ssh/known_hosts                    # <0>\n",
    "\n",
    "scp -P $RUNPOD_PORT -i ~/.ssh/runpod \\\n",
    "    ~/.ssh/runpod_github root@$RUNPOD_IP:/root/.ssh/runpod_github\n",
    "\n",
    "ssh -p $RUNPOD_PORT -i ~/.ssh/runpod root@$RUNPOD_IP '\n",
    "    # Set secure permissions for SSH directory and key\n",
    "    chmod 700 ~/.ssh                                                            # <1>\n",
    "    chmod 600 ~/.ssh/runpod_github                                              # <2>\n",
    "\n",
    "    # Add GitHub to known_hosts and set permissions\n",
    "    ssh-keyscan github.com >> ~/.ssh/known_hosts                                # <3>\n",
    "    chmod 644 ~/.ssh/known_hosts                                                # <4>\n",
    "\n",
    "    # Start SSH agent and load the key\n",
    "    ssh-agent -s > ~/.ssh-agent-info                                            # <5>\n",
    "    source ~/.ssh-agent-info\n",
    "    ssh-add ~/.ssh/runpod_github                                                # <6>\n",
    "\n",
    "    # Ensure the agent is auto-loaded in future sessions\n",
    "    line=\"if [ -f ~/.ssh-agent-info ]; then source ~/.ssh-agent-info; fi\"\n",
    "    grep -qxF \"$line\" ~/.bashrc || echo \"$line\" >> ~/.bashrc                    # <7>\n",
    "'\n",
    "```\n",
    "0. Append pod's public SSH host key to local `known_hosts` to skip authenticity prompts.\n",
    "1. Permissions: only owner can read, write, or execute directory.\n",
    "2. Permissions: only owner can read or write on the private key file.\n",
    "3. Append GitHub's public SSH host key to pod `known_hosts` to avoid authenticity prompts.\n",
    "4. Permissions: `known_hosts` owner can read/write, others have read-only access.\n",
    "5. Run SSH agent in the background and output env vars to `~/.ssh-agent-info` for later sourcing.\n",
    "6. Add GitHub private key to SSH agent. \n",
    "7. Checks if the source command exists as a whole line in `~/.bashrc` (`grep -qxF` quiet, entire line, no regex), else appends it to the end of the file, ensuring the line is only added once. This ensures that environmental variables are loaded each time you SSH into the pod.\n",
    "\n",
    ":::{.callout-note}\n",
    "The `ssh-agent` process persists in the background once started, holding your loaded keys in memory. What does not persist are the environment variables (`SSH_AUTH_SOCK`, `SSH_AGENT_PID`) that let your shell know how to communicate with that agent. When you open a new shell or SSH session, those env vars are not automatically set, so your shell can’t find the running agent unless you restore them (e.g. by sourcing `~/.ssh-agent-info`).\n",
    ":::\n",
    "\n",
    "6. SSH into pod and add SSH keys:\n",
    "```bash\n",
    "ssh root@$RUNPOD_IP -p $RUNPOD_PORT -i ~/.ssh/runpod\n",
    "```\n",
    "\n",
    "[^connstring]: e.g. `export RUNPOD_SSH=\"ssh root@63.141.33.33 -p 22011 -i ~/.ssh/id_ed25519\"`"
   ]
  },
  {
   "cell_type": "markdown",
   "id": "f2473df2",
   "metadata": {},
   "source": [
    "## Virtual environment\n",
    "\n",
    ":::{.callout-warning}\n",
    "This part is much more specific to the current project. \n",
    ":::\n",
    "\n",
    "Clone the repo:\n",
    "\n",
    "```bash\n",
    "git clone git@github.com:particle1331/ai-notebooks.git\n",
    "```\n",
    "\n",
    "You can use `uv` as environment and package manager synced with `uv.lock`. This creates a virtual env `.venv` that can be used as notebook kernel.\n",
    "\n",
    "```bash\n",
    "make venv\n",
    "```\n",
    "Or skip `uv` entirely and just use `pip`:\n",
    "```bash\n",
    "make requirements\n",
    "pip install -r requirements.txt\n",
    "```\n",
    "\n",
    ":::{.callout-note}\n",
    "There are trade-offs. The pods are ephemeral, so you don't need to perfect their setup or maintain a clean state. But then things like reproducibility may matter, so you may still want a well-defined environment. The level of precision necessary ultimately depends on your use case.\n",
    ":::"
   ]
  },
  {
   "cell_type": "markdown",
   "id": "4bf9ab54",
   "metadata": {},
   "source": [
    "## Quarto docs\n",
    "\n",
    "Check [here](https://github.com/particle1331/ai-notebooks/blob/main/.github/workflows/publish.yml) for the Quatro version that we use. Adjust the following variable for accordingly:\n",
    "```bash\n",
    "export QUARTO_VERSION=1.7.32  # may be outdated\n",
    "\n",
    "wget -q https://github.com/quarto-dev/quarto-cli/releases/download/v${QUARTO_VERSION}/quarto-${QUARTO_VERSION}-linux-amd64.deb\n",
    "dpkg -i quarto-${QUARTO_VERSION}-linux-amd64.deb && rm quarto-${QUARTO_VERSION}-linux-amd64.deb\n",
    "```"
   ]
  },
  {
   "cell_type": "markdown",
   "id": "8ed73518",
   "metadata": {},
   "source": [
    "Preview then [port-forward](https://code.visualstudio.com/docs/remote/ssh#_forwarding-a-port-creating-ssh-tunnel) using vscode:\n",
    "```bash\n",
    "make docs\n",
    "```"
   ]
  },
  {
   "cell_type": "markdown",
   "id": "e5b9d69f",
   "metadata": {},
   "source": []
  }
 ],
 "metadata": {
  "language_info": {
   "name": "python"
  }
 },
 "nbformat": 4,
 "nbformat_minor": 5
}
