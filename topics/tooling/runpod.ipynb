{
 "cells": [
  {
   "cell_type": "markdown",
   "id": "1f04a4e8",
   "metadata": {},
   "source": [
    "# Runpod Dev Environment Setup"
   ]
  },
  {
   "cell_type": "markdown",
   "id": "d8399ba0",
   "metadata": {},
   "source": [
    "SSH implements public-key cryptography to establish trust between client and server systems. In this paradigm, we have the **public key** (`.pub`) that functions as an access *verifier*, installed on target systems (like Runpod nodes), and the **private key** serves as the unique authentication factor for mathematically proving identity.\n",
    "\n",
    "Below, we create public keys which we install onto Runpod and GitHub systems. The corresponding private key for Runpod is stored locally, while that for GitHub is securely copied via `scp`. This gives every new pod read and write access to GitHub repositories.\n",
    "\n",
    "![](./img/runpod-ssh.png)"
   ]
  },
  {
   "cell_type": "markdown",
   "id": "efb321ad",
   "metadata": {
    "vscode": {
     "languageId": "plaintext"
    }
   },
   "source": [
    "## Give local SSH access to pods\n",
    "\n",
    "1. Generate SSH keys for Runpod (no passphrase):\n",
    "```{.bash filename=\"$ (local)\"}\n",
    "ssh-keygen -t ed25519 -C \"runpod\" -f ~/.ssh/runpod -N \"\"\n",
    "cat ~/.ssh/runpod.pub\n",
    "```\n",
    "2. Add this to **Settings**> **SSH Public Keys** in Runpod (separated by newline).\n",
    "\n",
    "## Give pods SSH access to GitHub\n",
    "1. Generate SSH keys to access GitHub from each pod (no passphrase):\n",
    "```{.bash filename=\"$ (local)\"}\n",
    "ssh-keygen -t ed25519 -C \"runpod-github\" -f ~/.ssh/runpod_github -N \"\"\n",
    "cat ~/.ssh/runpod_github.pub\n",
    "```\n",
    "2. Add the public SSH key to your GitHub account under **Settings**> **SSH and GPG Keys**:\n",
    "\n",
    "![](./img/tooling-github-ssh.png)\n",
    "\n",
    "3. Run the following script. Then, copy your pod's **SSH over exposed TCP** [connection string]{.underline}[^connstring]. Paste the connection string in the resulting input prompt. You should verify the auto-filled values for **pod IP** and **port number** before proceeding.\n",
    "```{.bash filename=\"$ (local)\"}\n",
    "printf \"\\nSSH over exposed TCP connection string:\\n\"\n",
    "read RUNPOD_SSH\n",
    "\n",
    "RUNPOD_IP=$(echo \"$RUNPOD_SSH\" | sed -E 's/.*@([0-9.]+).*/\\1/')\n",
    "RUNPOD_PORT=$(echo \"$RUNPOD_SSH\" | sed -E 's/.*-p ([0-9]+).*/\\1/')\n",
    "echo \"\"\n",
    "echo \"IP:   $RUNPOD_IP\"\n",
    "echo \"Port: $RUNPOD_PORT\"\n",
    "```\n",
    "\n",
    "4. Run the following script. This copies the GitHub private SSH key, adds it to the SSH agent, and logs in to the instance. You should now be connected to your pod! 🫛 Also, you can check that you have access to your repositories.\n",
    "```{.bash filename=\"$ (local)\"}\n",
    "ssh-keyscan -p $RUNPOD_PORT $RUNPOD_IP >> ~/.ssh/known_hosts                    # <0>\n",
    "\n",
    "scp -P $RUNPOD_PORT -i ~/.ssh/runpod \\\n",
    "    ~/.ssh/runpod_github root@$RUNPOD_IP:/root/.ssh/runpod_github\n",
    "\n",
    "ssh -t -p $RUNPOD_PORT -i ~/.ssh/runpod root@$RUNPOD_IP '\n",
    "    # Set secure permissions for SSH directory and key\n",
    "    chmod 700 ~/.ssh                                                            # <1>\n",
    "    chmod 600 ~/.ssh/runpod_github                                              # <2>\n",
    "\n",
    "    # Add GitHub to known_hosts and set permissions\n",
    "    ssh-keyscan github.com >> ~/.ssh/known_hosts                                # <3>\n",
    "    chmod 644 ~/.ssh/known_hosts                                                # <4>\n",
    "\n",
    "    # Start SSH agent and load the key\n",
    "    eval \"$(ssh-agent -s)\" > /dev/null;                                         # <5>\n",
    "    ssh-add ~/.ssh/runpod_github                                                # <6>\n",
    "\n",
    "    # Launch interactive shell to keep the session alive\n",
    "    cd ~ && exec bash -l                                                        # <7>\n",
    "'\n",
    "```\n",
    "0. Append pod's public SSH host key to local `known_hosts` to skip authenticity prompts.\n",
    "1. Permissions: only owner can read, write, or execute directory.\n",
    "2. Permissions: only owner can read or write on the private key file.\n",
    "3. Append GitHub's public SSH host key to pod `known_hosts` to avoid authenticity prompts.\n",
    "4. Permissions: `known_hosts` owner can read/write, others have read-only access.\n",
    "5. Run the SSH agent process in the background.\n",
    "6. Add GitHub private key to SSH agent. \n",
    "7. Once the setup completes, `cd ~ && exec bash -l` changes the working directory to home (`~`, i.e. `/root`) and then replaces the current process with a new login shell (`-l`) which reinitializes the environmental variables of the last one. The `-t` flag on the `ssh` command allows `exec` to work interactively.\n",
    "\n",
    ":::{.callout-note}\n",
    "The `ssh-agent` process persists in the background once started, holding your loaded keys in memory. What does not persist are the environment variables (`SSH_AUTH_SOCK`, `SSH_AGENT_PID`) that let your shell know how to communicate with that agent. When you open a new shell or SSH session, those env vars are not automatically set, so your shell can’t find the running agent unless you restore them (e.g. doing `ssh-add` again). This is why we want all setup and SSH connection to happen in one continuous session.\n",
    ":::\n",
    "\n",
    "[^connstring]: e.g. `ssh root@63.141.33.33 -p 22011 -i ~/.ssh/id_ed25519`\n"
   ]
  },
  {
   "cell_type": "markdown",
   "id": "2a21a277",
   "metadata": {},
   "source": [
    "Collecting all commands in a single script ([-@lst-runpod]) that you can run to connect to a pod:"
   ]
  },
  {
   "cell_type": "markdown",
   "id": "b1881f6a",
   "metadata": {},
   "source": [
    "```{.bash filename=\"$ (local)\"}\n",
    "chmod +x ./scripts/runpod.sh\n",
    "./scripts/runpod.sh\n",
    "```"
   ]
  },
  {
   "cell_type": "markdown",
   "id": "f2473df2",
   "metadata": {},
   "source": [
    "## Virtual environment\n",
    "\n",
    "Inside the pod, we can now clone repositories. For example:\n",
    "\n",
    "```{.bash filename=\"$ (root@runpod)\"}\n",
    "git clone git@github.com:particle1331/ai-notebooks.git\n",
    "```\n",
    "\n",
    "Our recommended approach is to use `uv` to build a venv at `.venv` that is synced using `uv.lock`. This environment can then be used as Jupyter kernel [in vscode](https://code.visualstudio.com/docs/datascience/jupyter-kernel-management). Or run scripts using [`uv run`](https://docs.astral.sh/uv/concepts/projects/run/#running-scripts). The required Python version is also specified ([-@lst-Makefile]):\n",
    "\n",
    "```{.bash filename=\"$ (root@runpod)\"}\n",
    "make venv\n",
    "```\n",
    "\n",
    "Alternatively, you can use `pip` to install packages (without using `uv`):\n",
    "```{.bash filename=\"$ (root@runpod)\"}\n",
    "# install required python version, activate venv\n",
    "make uv\n",
    "uv python install 3.13\n",
    "uv venv .venv && source .venv/bin/activate\n",
    "curl -sS https://bootstrap.pypa.io/get-pip.py | .venv/bin/python\n",
    "\n",
    "# install requirements on venv\n",
    "make requirements\n",
    "pip install -r requirements.txt\n",
    "pip install -e .\n",
    "```\n",
    "\n",
    ":::{.callout-note}\n",
    "Some environments, like AzureML where compute instances have network-mounted or ephemeral filesystems, can cause `uv` failures. In the case of short-lived pods, you don't necessarily need to perfectly setup an environment or maintain a clean state. On the other hand, reproducibility benefits from a controlled, well-defined environment. As usual, the level of precision needed depends on the scope of the project.\n",
    ":::"
   ]
  },
  {
   "cell_type": "markdown",
   "id": "4bf9ab54",
   "metadata": {},
   "source": [
    "## Quarto docs\n",
    "\n",
    "Check [here](https://github.com/particle1331/ai-notebooks/blob/main/.github/workflows/publish.yml) for the Quatro version that we're using. Adjust the following variable accordingly:\n",
    "```{.bash filename=\"$ (root@runpod)\"}\n",
    "export QUARTO_VERSION=1.7.32  # may be outdated\n",
    "wget -q https://github.com/quarto-dev/quarto-cli/releases/download/v${QUARTO_VERSION}/quarto-${QUARTO_VERSION}-linux-amd64.deb\n",
    "dpkg -i quarto-${QUARTO_VERSION}-linux-amd64.deb && rm quarto-${QUARTO_VERSION}-linux-amd64.deb\n",
    "```"
   ]
  },
  {
   "cell_type": "markdown",
   "id": "8ed73518",
   "metadata": {},
   "source": [
    "Preview then [port-forward](https://code.visualstudio.com/docs/remote/ssh#_forwarding-a-port-creating-ssh-tunnel) using vscode:\n",
    "```{.bash filename=\"$ (root@runpod)\"}\n",
    "make docs\n",
    "```"
   ]
  },
  {
   "cell_type": "markdown",
   "id": "cf1fea3c",
   "metadata": {},
   "source": [
    "## Appendix: Tmux\n",
    "\n",
    "Tmux allows you to open multiple windows in a **single SSH session** to a remote server, without needing to log in separately for each window. You can also detach from a tmux session and reconnect later to resume your work exactly where you left off, without having to log in again or restart your processes. This means you can run several tasks in parallel, switch between them easily, and keep them running even if your connection drops.\n",
    "\n",
    "For convenience, I use [byobu](https://www.byobu.org/downloads). In this section, I'll list commands and workflows I found useful.\n",
    "\n",
    "| Command | Function |\n",
    "| :--: | :-- |\n",
    "| Shift + F1, F1 | Display help |\n",
    "| Ctrl + F2 | Create new split vertically |\n",
    "| Shift + F2 | Create new split horizontally |\n",
    "| F2 | Create new window |\n",
    "| F8 | Rename the current window |\n",
    "| Ctrl + F6 | Kill a focused split |\n",
    "| F3 / F4 | Switch between windows |\n",
    "| Shift + F3 / F4 | Switch between splits |\n",
    "| F6 | Detach session |\n",
    "| Shift + F9 | Run command on all splits. See @fig-byobu-command-splits. |\n",
    ": Byobu commands {tbl-colwidths=\"[30,70]\"}"
   ]
  },
  {
   "cell_type": "markdown",
   "id": "c7c824ce",
   "metadata": {},
   "source": [
    "<br>\n",
    "\n",
    "Running the same command on multiple splits (very useful):"
   ]
  },
  {
   "cell_type": "markdown",
   "id": "e0677f10",
   "metadata": {},
   "source": [
    "![Running a dynamic command on 3 splits.](./img/byobu-commands.png){#fig-byobu-command-splits}"
   ]
  },
  {
   "cell_type": "markdown",
   "id": "13bae8bf",
   "metadata": {},
   "source": [
    "**Resuming.** Working on a remote server, you might lose your connection unexpectedly or intentionally disconnect while wanting to keep processes running. In such cases, you can press F6 in Byobu to detach the session and logout. Once you SSH again to the server, the session will be restored by running `byobu`. This is very useful!"
   ]
  },
  {
   "cell_type": "markdown",
   "id": "10f2e66c",
   "metadata": {},
   "source": [
    "![Resuming a detached session.](./img/byobu-detached.png){#fig-byobu-command-splits}"
   ]
  },
  {
   "cell_type": "markdown",
   "id": "2f8bc6c4",
   "metadata": {},
   "source": [
    "## Appendix: Code listings"
   ]
  },
  {
   "cell_type": "markdown",
   "id": "d6105820",
   "metadata": {},
   "source": [
    "::: {#lst-Makefile lst-cap=\"Makefile for the project.\"}\n",
    "```{.bash filename=Makefile}\n",
    "{{< include \"../../Makefile\" >}}\n",
    "```\n",
    ":::"
   ]
  },
  {
   "cell_type": "markdown",
   "id": "cb2348b8",
   "metadata": {},
   "source": [
    "::: {#lst-runpod lst-cap=\"Script to SSH to Runpod instance.\"}\n",
    "```{.bash filename=\"./scripts/runpod.sh\"}\n",
    "{{< include \"../../scripts/runpod.sh\" >}}\n",
    "```\n",
    ":::"
   ]
  }
 ],
 "metadata": {
  "kernelspec": {
   "display_name": "ai-notebooks",
   "language": "python",
   "name": "python3"
  },
  "language_info": {
   "codemirror_mode": {
    "name": "ipython",
    "version": 3
   },
   "file_extension": ".py",
   "mimetype": "text/x-python",
   "name": "python",
   "nbconvert_exporter": "python",
   "pygments_lexer": "ipython3",
   "version": "3.13.5"
  }
 },
 "nbformat": 4,
 "nbformat_minor": 5
}
