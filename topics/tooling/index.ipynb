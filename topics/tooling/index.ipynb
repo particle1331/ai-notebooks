{
 "cells": [
  {
   "cell_type": "markdown",
   "id": "539698f7",
   "metadata": {},
   "source": [
    "# Tooling\n",
    "\n",
    "Quick reference for things like environment & infrastructure setup to specific utilities."
   ]
  },
  {
   "cell_type": "markdown",
   "id": "78bac1b8",
   "metadata": {
    "vscode": {
     "languageId": "plaintext"
    }
   },
   "source": [
    "## Contents\n",
    "\n",
    "| Topic             | Summary                                                     |\n",
    "|-------------------|-----------------------------------------------------------------|\n",
    "| [Runpod Setup](runpod.ipynb) | Step-by-step guide to setting up SSH access, GitHub authentication, and Python environments on [Runpod.io](console.runpod.io) pods. Useful stuff like persistent terminal sessions ([tmux](https://tmuxcheatsheet.com/)/[byobu](https://www.byobu.org/)) and setting up [Quatro docs](https://quarto.org/) are also covered."
   ]
  },
  {
   "cell_type": "code",
   "execution_count": null,
   "id": "228b8a85",
   "metadata": {
    "vscode": {
     "languageId": "plaintext"
    }
   },
   "outputs": [],
   "source": []
  }
 ],
 "metadata": {
  "language_info": {
   "name": "python"
  }
 },
 "nbformat": 4,
 "nbformat_minor": 5
}
