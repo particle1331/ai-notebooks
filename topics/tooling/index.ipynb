{
 "cells": [
  {
   "cell_type": "markdown",
   "id": "539698f7",
   "metadata": {},
   "source": [
    "# Tooling\n",
    "\n",
    "Quick reference for things like environment & infrastructure setup to specific utilities."
   ]
  },
  {
   "cell_type": "markdown",
   "id": "78bac1b8",
   "metadata": {
    "vscode": {
     "languageId": "plaintext"
    }
   },
   "source": [
    "## Contents\n",
    "\n",
    "| Topic             | Description                                                     |\n",
    "|-------------------|-----------------------------------------------------------------|\n",
    "| [Runpod Setup](runpod.ipynb) | Setting up SSH access to dev environments in [Runpod.io](console.runpod.io) and pod access to GitHub. |"
   ]
  },
  {
   "cell_type": "code",
   "execution_count": null,
   "id": "228b8a85",
   "metadata": {
    "vscode": {
     "languageId": "plaintext"
    }
   },
   "outputs": [],
   "source": []
  }
 ],
 "metadata": {
  "language_info": {
   "name": "python"
  }
 },
 "nbformat": 4,
 "nbformat_minor": 5
}
