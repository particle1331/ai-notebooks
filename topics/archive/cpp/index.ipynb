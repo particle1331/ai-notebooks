{
 "cells": [
  {
   "cell_type": "markdown",
   "id": "3d3bef39",
   "metadata": {},
   "source": [
    "**Primary reference(s):** \n",
    "- [C++ for Python Programmers](https://runestone.academy/ns/books/published/cpp4python/index.html)\n",
    "- By Jan Pearce, Berea College and Brad Miller, Runestone\n",
    "-\n",
    "- [C++ Machine Learning Tutorial](https://www.youtube.com/playlist?list=PL79n_WS-sPHKklEvOLiM1K94oJBsGnz71)"
   ]
  }
 ],
 "metadata": {
  "language_info": {
   "name": "python"
  }
 },
 "nbformat": 4,
 "nbformat_minor": 5
}
